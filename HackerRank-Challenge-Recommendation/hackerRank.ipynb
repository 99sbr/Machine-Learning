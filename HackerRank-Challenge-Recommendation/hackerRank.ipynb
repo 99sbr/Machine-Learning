{
 "cells": [
  {
   "cell_type": "code",
   "execution_count": 1,
   "metadata": {
    "collapsed": true
   },
   "outputs": [],
   "source": [
    "import pandas as pd\n",
    "challenge=pd.read_csv('challenges.csv')\n",
    "submissions=pd.read_csv('submissions.csv')"
   ]
  },
  {
   "cell_type": "code",
   "execution_count": 2,
   "metadata": {
    "collapsed": false
   },
   "outputs": [
    {
     "name": "stdout",
     "output_type": "stream",
     "text": [
      "Number of challenge = 2228 | Number of contest = 256\n"
     ]
    }
   ],
   "source": [
    "n_challenge = challenge.challenge_id.unique().shape[0]\n",
    "n_contest =challenge.contest_id.unique().shape[0]\n",
    "print ('Number of challenge = ' + str(n_challenge) + ' | Number of contest = ' + str(n_contest)  )"
   ]
  },
  {
   "cell_type": "code",
   "execution_count": 3,
   "metadata": {
    "collapsed": false
   },
   "outputs": [
    {
     "name": "stdout",
     "output_type": "stream",
     "text": [
      "Number of hackers = 10000 | Number of challenges = 2156\n"
     ]
    }
   ],
   "source": [
    "n_users = submissions.hacker_id.unique().shape[0]\n",
    "n_items =submissions.challenge_id.unique().shape[0]\n",
    "print ('Number of hackers = ' + str(n_users) + ' | Number of challenges = ' + str(n_items)  )"
   ]
  },
  {
   "cell_type": "code",
   "execution_count": 4,
   "metadata": {
    "collapsed": false
   },
   "outputs": [
    {
     "name": "stdout",
     "output_type": "stream",
     "text": [
      "(2865, 7)\n",
      "1576\n",
      "1576\n"
     ]
    }
   ],
   "source": [
    "print(challenge.shape)\n",
    "print(challenge.domain.isnull().sum())\n",
    "print(challenge.subdomain.isnull().sum())\n",
    "submissions=submissions.drop('created_at',1)\n",
    "del challenge['domain']\n",
    "del challenge['subdomain']"
   ]
  },
  {
   "cell_type": "code",
   "execution_count": 5,
   "metadata": {
    "collapsed": false
   },
   "outputs": [
    {
     "data": {
      "text/html": [
       "<div>\n",
       "<table border=\"1\" class=\"dataframe\">\n",
       "  <thead>\n",
       "    <tr style=\"text-align: right;\">\n",
       "      <th></th>\n",
       "      <th>hacker_id</th>\n",
       "      <th>contest_id</th>\n",
       "      <th>challenge_id</th>\n",
       "      <th>language</th>\n",
       "      <th>solved</th>\n",
       "      <th>difficulty</th>\n",
       "      <th>solved_submission_count</th>\n",
       "      <th>total_submissions_count</th>\n",
       "    </tr>\n",
       "  </thead>\n",
       "  <tbody>\n",
       "    <tr>\n",
       "      <th>0</th>\n",
       "      <td>56d47667c6a9242e</td>\n",
       "      <td>c8ff662c97d345d2</td>\n",
       "      <td>6d95afeb4d968b91</td>\n",
       "      <td>java</td>\n",
       "      <td>0</td>\n",
       "      <td>0.647109</td>\n",
       "      <td>391</td>\n",
       "      <td>1184</td>\n",
       "    </tr>\n",
       "    <tr>\n",
       "      <th>1</th>\n",
       "      <td>56d47667c6a9242e</td>\n",
       "      <td>c8ff662c97d345d2</td>\n",
       "      <td>6d95afeb4d968b91</td>\n",
       "      <td>java</td>\n",
       "      <td>0</td>\n",
       "      <td>0.647109</td>\n",
       "      <td>391</td>\n",
       "      <td>1184</td>\n",
       "    </tr>\n",
       "    <tr>\n",
       "      <th>2</th>\n",
       "      <td>56d47667c6a9242e</td>\n",
       "      <td>c8ff662c97d345d2</td>\n",
       "      <td>6d95afeb4d968b91</td>\n",
       "      <td>java</td>\n",
       "      <td>0</td>\n",
       "      <td>0.647109</td>\n",
       "      <td>391</td>\n",
       "      <td>1184</td>\n",
       "    </tr>\n",
       "    <tr>\n",
       "      <th>3</th>\n",
       "      <td>56d47667c6a9242e</td>\n",
       "      <td>c8ff662c97d345d2</td>\n",
       "      <td>6d95afeb4d968b91</td>\n",
       "      <td>java</td>\n",
       "      <td>0</td>\n",
       "      <td>0.647109</td>\n",
       "      <td>391</td>\n",
       "      <td>1184</td>\n",
       "    </tr>\n",
       "    <tr>\n",
       "      <th>4</th>\n",
       "      <td>56d47667c6a9242e</td>\n",
       "      <td>c8ff662c97d345d2</td>\n",
       "      <td>6d95afeb4d968b91</td>\n",
       "      <td>java</td>\n",
       "      <td>0</td>\n",
       "      <td>0.647109</td>\n",
       "      <td>391</td>\n",
       "      <td>1184</td>\n",
       "    </tr>\n",
       "  </tbody>\n",
       "</table>\n",
       "</div>"
      ],
      "text/plain": [
       "          hacker_id        contest_id      challenge_id language  solved  \\\n",
       "0  56d47667c6a9242e  c8ff662c97d345d2  6d95afeb4d968b91     java       0   \n",
       "1  56d47667c6a9242e  c8ff662c97d345d2  6d95afeb4d968b91     java       0   \n",
       "2  56d47667c6a9242e  c8ff662c97d345d2  6d95afeb4d968b91     java       0   \n",
       "3  56d47667c6a9242e  c8ff662c97d345d2  6d95afeb4d968b91     java       0   \n",
       "4  56d47667c6a9242e  c8ff662c97d345d2  6d95afeb4d968b91     java       0   \n",
       "\n",
       "   difficulty  solved_submission_count  total_submissions_count  \n",
       "0    0.647109                      391                     1184  \n",
       "1    0.647109                      391                     1184  \n",
       "2    0.647109                      391                     1184  \n",
       "3    0.647109                      391                     1184  \n",
       "4    0.647109                      391                     1184  "
      ]
     },
     "execution_count": 5,
     "metadata": {},
     "output_type": "execute_result"
    }
   ],
   "source": [
    "df=pd.merge(submissions,challenge)\n",
    "df.head()"
   ]
  },
  {
   "cell_type": "code",
   "execution_count": 6,
   "metadata": {
    "collapsed": false
   },
   "outputs": [
    {
     "data": {
      "text/html": [
       "<div>\n",
       "<table border=\"1\" class=\"dataframe\">\n",
       "  <thead>\n",
       "    <tr style=\"text-align: right;\">\n",
       "      <th>challenge_id</th>\n",
       "      <th>00014449a0541424</th>\n",
       "      <th>0008acfcc2194c4b</th>\n",
       "      <th>004fcad83342940f</th>\n",
       "      <th>00557525d18c8d46</th>\n",
       "      <th>005d4ee9b6d9c993</th>\n",
       "      <th>006551bddafadcf6</th>\n",
       "      <th>006f898cfac64dc4</th>\n",
       "      <th>0085ebe963e41545</th>\n",
       "      <th>009eebdd1046aedd</th>\n",
       "      <th>00aec2c86c963f0b</th>\n",
       "      <th>...</th>\n",
       "      <th>ff363c702e7af3a3</th>\n",
       "      <th>ff4ded4f221d0b9d</th>\n",
       "      <th>ff665f6ac93c3e02</th>\n",
       "      <th>ff883052c3a1d18b</th>\n",
       "      <th>ffa0445299656a88</th>\n",
       "      <th>ffa10a5ee5a3afe1</th>\n",
       "      <th>ffc7defbbd656390</th>\n",
       "      <th>ffd5ad5244082694</th>\n",
       "      <th>fff72beb69e825fe</th>\n",
       "      <th>fff8a2f3589cb399</th>\n",
       "    </tr>\n",
       "    <tr>\n",
       "      <th>hacker_id</th>\n",
       "      <th></th>\n",
       "      <th></th>\n",
       "      <th></th>\n",
       "      <th></th>\n",
       "      <th></th>\n",
       "      <th></th>\n",
       "      <th></th>\n",
       "      <th></th>\n",
       "      <th></th>\n",
       "      <th></th>\n",
       "      <th></th>\n",
       "      <th></th>\n",
       "      <th></th>\n",
       "      <th></th>\n",
       "      <th></th>\n",
       "      <th></th>\n",
       "      <th></th>\n",
       "      <th></th>\n",
       "      <th></th>\n",
       "      <th></th>\n",
       "      <th></th>\n",
       "    </tr>\n",
       "  </thead>\n",
       "  <tbody>\n",
       "    <tr>\n",
       "      <th>00004cf8b853ad0d</th>\n",
       "      <td>NaN</td>\n",
       "      <td>NaN</td>\n",
       "      <td>NaN</td>\n",
       "      <td>NaN</td>\n",
       "      <td>NaN</td>\n",
       "      <td>NaN</td>\n",
       "      <td>NaN</td>\n",
       "      <td>NaN</td>\n",
       "      <td>NaN</td>\n",
       "      <td>NaN</td>\n",
       "      <td>...</td>\n",
       "      <td>NaN</td>\n",
       "      <td>NaN</td>\n",
       "      <td>NaN</td>\n",
       "      <td>NaN</td>\n",
       "      <td>NaN</td>\n",
       "      <td>NaN</td>\n",
       "      <td>NaN</td>\n",
       "      <td>NaN</td>\n",
       "      <td>NaN</td>\n",
       "      <td>NaN</td>\n",
       "    </tr>\n",
       "    <tr>\n",
       "      <th>00010020d9cd62a0</th>\n",
       "      <td>NaN</td>\n",
       "      <td>NaN</td>\n",
       "      <td>NaN</td>\n",
       "      <td>NaN</td>\n",
       "      <td>NaN</td>\n",
       "      <td>NaN</td>\n",
       "      <td>NaN</td>\n",
       "      <td>NaN</td>\n",
       "      <td>NaN</td>\n",
       "      <td>NaN</td>\n",
       "      <td>...</td>\n",
       "      <td>NaN</td>\n",
       "      <td>NaN</td>\n",
       "      <td>NaN</td>\n",
       "      <td>1.0</td>\n",
       "      <td>NaN</td>\n",
       "      <td>NaN</td>\n",
       "      <td>NaN</td>\n",
       "      <td>NaN</td>\n",
       "      <td>NaN</td>\n",
       "      <td>NaN</td>\n",
       "    </tr>\n",
       "    <tr>\n",
       "      <th>000c08c3a6f1ee15</th>\n",
       "      <td>NaN</td>\n",
       "      <td>NaN</td>\n",
       "      <td>NaN</td>\n",
       "      <td>NaN</td>\n",
       "      <td>NaN</td>\n",
       "      <td>NaN</td>\n",
       "      <td>NaN</td>\n",
       "      <td>NaN</td>\n",
       "      <td>NaN</td>\n",
       "      <td>NaN</td>\n",
       "      <td>...</td>\n",
       "      <td>NaN</td>\n",
       "      <td>NaN</td>\n",
       "      <td>NaN</td>\n",
       "      <td>NaN</td>\n",
       "      <td>NaN</td>\n",
       "      <td>NaN</td>\n",
       "      <td>NaN</td>\n",
       "      <td>NaN</td>\n",
       "      <td>NaN</td>\n",
       "      <td>NaN</td>\n",
       "    </tr>\n",
       "    <tr>\n",
       "      <th>000d0dde89911c9f</th>\n",
       "      <td>NaN</td>\n",
       "      <td>NaN</td>\n",
       "      <td>NaN</td>\n",
       "      <td>NaN</td>\n",
       "      <td>NaN</td>\n",
       "      <td>NaN</td>\n",
       "      <td>NaN</td>\n",
       "      <td>NaN</td>\n",
       "      <td>NaN</td>\n",
       "      <td>NaN</td>\n",
       "      <td>...</td>\n",
       "      <td>NaN</td>\n",
       "      <td>NaN</td>\n",
       "      <td>NaN</td>\n",
       "      <td>NaN</td>\n",
       "      <td>NaN</td>\n",
       "      <td>NaN</td>\n",
       "      <td>NaN</td>\n",
       "      <td>NaN</td>\n",
       "      <td>NaN</td>\n",
       "      <td>NaN</td>\n",
       "    </tr>\n",
       "    <tr>\n",
       "      <th>000d3364ba25d742</th>\n",
       "      <td>NaN</td>\n",
       "      <td>NaN</td>\n",
       "      <td>NaN</td>\n",
       "      <td>NaN</td>\n",
       "      <td>NaN</td>\n",
       "      <td>NaN</td>\n",
       "      <td>NaN</td>\n",
       "      <td>NaN</td>\n",
       "      <td>NaN</td>\n",
       "      <td>NaN</td>\n",
       "      <td>...</td>\n",
       "      <td>NaN</td>\n",
       "      <td>NaN</td>\n",
       "      <td>NaN</td>\n",
       "      <td>NaN</td>\n",
       "      <td>0.333333</td>\n",
       "      <td>NaN</td>\n",
       "      <td>NaN</td>\n",
       "      <td>NaN</td>\n",
       "      <td>NaN</td>\n",
       "      <td>NaN</td>\n",
       "    </tr>\n",
       "  </tbody>\n",
       "</table>\n",
       "<p>5 rows × 2156 columns</p>\n",
       "</div>"
      ],
      "text/plain": [
       "challenge_id      00014449a0541424  0008acfcc2194c4b  004fcad83342940f  \\\n",
       "hacker_id                                                                \n",
       "00004cf8b853ad0d               NaN               NaN               NaN   \n",
       "00010020d9cd62a0               NaN               NaN               NaN   \n",
       "000c08c3a6f1ee15               NaN               NaN               NaN   \n",
       "000d0dde89911c9f               NaN               NaN               NaN   \n",
       "000d3364ba25d742               NaN               NaN               NaN   \n",
       "\n",
       "challenge_id      00557525d18c8d46  005d4ee9b6d9c993  006551bddafadcf6  \\\n",
       "hacker_id                                                                \n",
       "00004cf8b853ad0d               NaN               NaN               NaN   \n",
       "00010020d9cd62a0               NaN               NaN               NaN   \n",
       "000c08c3a6f1ee15               NaN               NaN               NaN   \n",
       "000d0dde89911c9f               NaN               NaN               NaN   \n",
       "000d3364ba25d742               NaN               NaN               NaN   \n",
       "\n",
       "challenge_id      006f898cfac64dc4  0085ebe963e41545  009eebdd1046aedd  \\\n",
       "hacker_id                                                                \n",
       "00004cf8b853ad0d               NaN               NaN               NaN   \n",
       "00010020d9cd62a0               NaN               NaN               NaN   \n",
       "000c08c3a6f1ee15               NaN               NaN               NaN   \n",
       "000d0dde89911c9f               NaN               NaN               NaN   \n",
       "000d3364ba25d742               NaN               NaN               NaN   \n",
       "\n",
       "challenge_id      00aec2c86c963f0b        ...         ff363c702e7af3a3  \\\n",
       "hacker_id                                 ...                            \n",
       "00004cf8b853ad0d               NaN        ...                      NaN   \n",
       "00010020d9cd62a0               NaN        ...                      NaN   \n",
       "000c08c3a6f1ee15               NaN        ...                      NaN   \n",
       "000d0dde89911c9f               NaN        ...                      NaN   \n",
       "000d3364ba25d742               NaN        ...                      NaN   \n",
       "\n",
       "challenge_id      ff4ded4f221d0b9d  ff665f6ac93c3e02  ff883052c3a1d18b  \\\n",
       "hacker_id                                                                \n",
       "00004cf8b853ad0d               NaN               NaN               NaN   \n",
       "00010020d9cd62a0               NaN               NaN               1.0   \n",
       "000c08c3a6f1ee15               NaN               NaN               NaN   \n",
       "000d0dde89911c9f               NaN               NaN               NaN   \n",
       "000d3364ba25d742               NaN               NaN               NaN   \n",
       "\n",
       "challenge_id      ffa0445299656a88  ffa10a5ee5a3afe1  ffc7defbbd656390  \\\n",
       "hacker_id                                                                \n",
       "00004cf8b853ad0d               NaN               NaN               NaN   \n",
       "00010020d9cd62a0               NaN               NaN               NaN   \n",
       "000c08c3a6f1ee15               NaN               NaN               NaN   \n",
       "000d0dde89911c9f               NaN               NaN               NaN   \n",
       "000d3364ba25d742          0.333333               NaN               NaN   \n",
       "\n",
       "challenge_id      ffd5ad5244082694  fff72beb69e825fe  fff8a2f3589cb399  \n",
       "hacker_id                                                               \n",
       "00004cf8b853ad0d               NaN               NaN               NaN  \n",
       "00010020d9cd62a0               NaN               NaN               NaN  \n",
       "000c08c3a6f1ee15               NaN               NaN               NaN  \n",
       "000d0dde89911c9f               NaN               NaN               NaN  \n",
       "000d3364ba25d742               NaN               NaN               NaN  \n",
       "\n",
       "[5 rows x 2156 columns]"
      ]
     },
     "execution_count": 6,
     "metadata": {},
     "output_type": "execute_result"
    }
   ],
   "source": [
    "matrix = df.pivot_table(index=['hacker_id'], columns=['challenge_id'], values='solved')\n",
    "matrix.head()"
   ]
  },
  {
   "cell_type": "code",
   "execution_count": 7,
   "metadata": {
    "collapsed": false
   },
   "outputs": [
    {
     "data": {
      "text/plain": [
       "Index(['00014449a0541424', '0008acfcc2194c4b', '004fcad83342940f',\n",
       "       '00557525d18c8d46', '005d4ee9b6d9c993', '006551bddafadcf6',\n",
       "       '006f898cfac64dc4', '0085ebe963e41545', '009eebdd1046aedd',\n",
       "       '00aec2c86c963f0b',\n",
       "       ...\n",
       "       'ff363c702e7af3a3', 'ff4ded4f221d0b9d', 'ff665f6ac93c3e02',\n",
       "       'ff883052c3a1d18b', 'ffa0445299656a88', 'ffa10a5ee5a3afe1',\n",
       "       'ffc7defbbd656390', 'ffd5ad5244082694', 'fff72beb69e825fe',\n",
       "       'fff8a2f3589cb399'],\n",
       "      dtype='object', name='challenge_id', length=2156)"
      ]
     },
     "execution_count": 7,
     "metadata": {},
     "output_type": "execute_result"
    }
   ],
   "source": [
    "# a little tidying up. fill NA values with 0 and make the index into a column\n",
    "matrix = matrix.fillna(0).reset_index()\n",
    "# save a list of the 0/1 columns. we'll use these a bit later\n",
    "x_cols = matrix.columns[1:]\n",
    "x_cols"
   ]
  },
  {
   "cell_type": "code",
   "execution_count": 8,
   "metadata": {
    "collapsed": false
   },
   "outputs": [
    {
     "data": {
      "text/plain": [
       "0    6777\n",
       "1    1864\n",
       "2     518\n",
       "3     453\n",
       "4     388\n",
       "Name: cluster, dtype: int64"
      ]
     },
     "execution_count": 8,
     "metadata": {},
     "output_type": "execute_result"
    }
   ],
   "source": [
    "from sklearn.cluster import KMeans\n",
    "\n",
    "cluster = KMeans(n_clusters=5)\n",
    "# slice matrix so we only include the 0/1 indicator columns in the clustering\n",
    "matrix['cluster'] = cluster.fit_predict(matrix[matrix.columns[2:]])\n",
    "matrix.cluster.value_counts()"
   ]
  },
  {
   "cell_type": "code",
   "execution_count": 9,
   "metadata": {
    "collapsed": true
   },
   "outputs": [],
   "source": [
    "from sklearn.decomposition import PCA\n",
    "\n",
    "pca = PCA(n_components=2)\n",
    "matrix['x'] = pca.fit_transform(matrix[x_cols])[:,0]\n",
    "matrix['y'] = pca.fit_transform(matrix[x_cols])[:,1]\n",
    "matrix = matrix.reset_index()"
   ]
  },
  {
   "cell_type": "code",
   "execution_count": 10,
   "metadata": {
    "collapsed": false
   },
   "outputs": [
    {
     "data": {
      "text/html": [
       "<div>\n",
       "<table border=\"1\" class=\"dataframe\">\n",
       "  <thead>\n",
       "    <tr style=\"text-align: right;\">\n",
       "      <th>challenge_id</th>\n",
       "      <th>hacker_id</th>\n",
       "      <th>cluster</th>\n",
       "      <th>x</th>\n",
       "      <th>y</th>\n",
       "    </tr>\n",
       "  </thead>\n",
       "  <tbody>\n",
       "    <tr>\n",
       "      <th>0</th>\n",
       "      <td>00004cf8b853ad0d</td>\n",
       "      <td>0</td>\n",
       "      <td>-0.808848</td>\n",
       "      <td>-0.114191</td>\n",
       "    </tr>\n",
       "    <tr>\n",
       "      <th>1</th>\n",
       "      <td>00010020d9cd62a0</td>\n",
       "      <td>4</td>\n",
       "      <td>0.340460</td>\n",
       "      <td>0.009033</td>\n",
       "    </tr>\n",
       "    <tr>\n",
       "      <th>2</th>\n",
       "      <td>000c08c3a6f1ee15</td>\n",
       "      <td>1</td>\n",
       "      <td>0.543029</td>\n",
       "      <td>-0.514371</td>\n",
       "    </tr>\n",
       "    <tr>\n",
       "      <th>3</th>\n",
       "      <td>000d0dde89911c9f</td>\n",
       "      <td>0</td>\n",
       "      <td>-0.694633</td>\n",
       "      <td>-0.179504</td>\n",
       "    </tr>\n",
       "    <tr>\n",
       "      <th>4</th>\n",
       "      <td>000d3364ba25d742</td>\n",
       "      <td>0</td>\n",
       "      <td>-0.452437</td>\n",
       "      <td>-0.171111</td>\n",
       "    </tr>\n",
       "  </tbody>\n",
       "</table>\n",
       "</div>"
      ],
      "text/plain": [
       "challenge_id         hacker_id  cluster         x         y\n",
       "0             00004cf8b853ad0d        0 -0.808848 -0.114191\n",
       "1             00010020d9cd62a0        4  0.340460  0.009033\n",
       "2             000c08c3a6f1ee15        1  0.543029 -0.514371\n",
       "3             000d0dde89911c9f        0 -0.694633 -0.179504\n",
       "4             000d3364ba25d742        0 -0.452437 -0.171111"
      ]
     },
     "execution_count": 10,
     "metadata": {},
     "output_type": "execute_result"
    }
   ],
   "source": [
    "customer_clusters = matrix[['hacker_id','', 'cluster', 'x', 'y']]\n",
    "customer_clusters.head()"
   ]
  },
  {
   "cell_type": "code",
   "execution_count": 13,
   "metadata": {
    "collapsed": false
   },
   "outputs": [
    {
     "name": "stdout",
     "output_type": "stream",
     "text": [
      "Index(['challenge_id', 'contest_id', 'difficulty', 'solved_submission_count',\n",
      "       'total_submissions_count'],\n",
      "      dtype='object')\n",
      "Index(['hacker_id', 'cluster', 'x', 'y'], dtype='object', name='challenge_id')\n"
     ]
    }
   ],
   "source": [
    "print(challenge.columns)\n",
    "print(customer_clusters.columns)"
   ]
  },
  {
   "cell_type": "code",
   "execution_count": null,
   "metadata": {
    "collapsed": false
   },
   "outputs": [],
   "source": [
    "df = pd.merge(submissions, customer_clusters)\n",
    "df = pd.merge(challenge, df)\n",
    "\n",
    "from ggplot import *\n",
    "\n",
    "ggplot(df, aes(x='x', y='y', color='cluster')) + \\\n",
    "    geom_point(size=75) + \\\n",
    "    ggtitle(\"Hackers Grouped by Cluster\")"
   ]
  },
  {
   "cell_type": "code",
   "execution_count": null,
   "metadata": {
    "collapsed": false
   },
   "outputs": [],
   "source": [
    "cluster_centers = pca.transform(cluster.cluster_centers_)\n",
    "cluster_centers = pd.DataFrame(cluster_centers, columns=['x', 'y'])\n",
    "cluster_centers['cluster'] = range(0, len(cluster_centers))\n",
    "\n",
    "ggplot(df, aes(x='x', y='y', color='cluster')) + \\\n",
    "    geom_point(size=75) + \\\n",
    "    geom_point(cluster_centers, size=500) +\\\n",
    "    ggtitle(\"Hackers Grouped by Cluster\")"
   ]
  },
  {
   "cell_type": "code",
   "execution_count": null,
   "metadata": {
    "collapsed": true
   },
   "outputs": [],
   "source": []
  },
  {
   "cell_type": "code",
   "execution_count": null,
   "metadata": {
    "collapsed": true
   },
   "outputs": [],
   "source": []
  }
 ],
 "metadata": {
  "kernelspec": {
   "display_name": "Python [Root]",
   "language": "python",
   "name": "Python [Root]"
  },
  "language_info": {
   "codemirror_mode": {
    "name": "ipython",
    "version": 3
   },
   "file_extension": ".py",
   "mimetype": "text/x-python",
   "name": "python",
   "nbconvert_exporter": "python",
   "pygments_lexer": "ipython3",
   "version": "3.5.2"
  }
 },
 "nbformat": 4,
 "nbformat_minor": 0
}
