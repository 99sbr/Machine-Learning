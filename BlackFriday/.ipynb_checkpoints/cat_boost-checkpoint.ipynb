{
 "cells": [
  {
   "cell_type": "code",
   "execution_count": 1,
   "metadata": {},
   "outputs": [
    {
     "name": "stderr",
     "output_type": "stream",
     "text": [
      "/home/code9/anaconda3/lib/python3.6/site-packages/matplotlib/font_manager.py:280: UserWarning: Matplotlib is building the font cache using fc-list. This may take a moment.\n",
      "  'Matplotlib is building the font cache using fc-list. '\n"
     ]
    },
    {
     "ename": "ModuleNotFoundError",
     "evalue": "No module named 'tpot'",
     "output_type": "error",
     "traceback": [
      "\u001b[0;31m---------------------------------------------------------------------------\u001b[0m",
      "\u001b[0;31mModuleNotFoundError\u001b[0m                       Traceback (most recent call last)",
      "\u001b[0;32m<ipython-input-1-136092829084>\u001b[0m in \u001b[0;36m<module>\u001b[0;34m()\u001b[0m\n\u001b[1;32m      5\u001b[0m \u001b[0;32mfrom\u001b[0m \u001b[0msklearn\u001b[0m \u001b[0;32mimport\u001b[0m \u001b[0mpreprocessing\u001b[0m\u001b[0;34m\u001b[0m\u001b[0m\n\u001b[1;32m      6\u001b[0m \u001b[0;32mfrom\u001b[0m \u001b[0msklearn\u001b[0m\u001b[0;34m.\u001b[0m\u001b[0mmetrics\u001b[0m \u001b[0;32mimport\u001b[0m \u001b[0mmean_squared_error\u001b[0m\u001b[0;34m\u001b[0m\u001b[0m\n\u001b[0;32m----> 7\u001b[0;31m \u001b[0;32mfrom\u001b[0m \u001b[0mtpot\u001b[0m \u001b[0;32mimport\u001b[0m \u001b[0mTPOTRegressor\u001b[0m\u001b[0;34m\u001b[0m\u001b[0m\n\u001b[0m\u001b[1;32m      8\u001b[0m \u001b[0;34m\u001b[0m\u001b[0m\n\u001b[1;32m      9\u001b[0m \u001b[0mplt\u001b[0m\u001b[0;34m.\u001b[0m\u001b[0mstyle\u001b[0m\u001b[0;34m.\u001b[0m\u001b[0muse\u001b[0m\u001b[0;34m(\u001b[0m\u001b[0;34m'fivethirtyeight'\u001b[0m\u001b[0;34m)\u001b[0m\u001b[0;34m\u001b[0m\u001b[0m\n",
      "\u001b[0;31mModuleNotFoundError\u001b[0m: No module named 'tpot'"
     ]
    }
   ],
   "source": [
    "import numpy as np\n",
    "import pandas as pd\n",
    "import matplotlib.pyplot as plt \n",
    "%matplotlib inline \n",
    "from sklearn import preprocessing \n",
    "from sklearn.metrics import mean_squared_error \n",
    "from tpot import TPOTRegressor\n",
    "\n",
    "plt.style.use('fivethirtyeight')"
   ]
  },
  {
   "cell_type": "code",
   "execution_count": null,
   "metadata": {},
   "outputs": [],
   "source": [
    "train_df=pd.read_csv('train.csv')\n",
    "test_df=pd.read_csv('test.csv')"
   ]
  },
  {
   "cell_type": "code",
   "execution_count": null,
   "metadata": {
    "collapsed": true
   },
   "outputs": [],
   "source": [
    "gender_dict = {'F':0, 'M':1}\n",
    "age_dict = {'0-17':0, '18-25':1, '26-35':2, '36-45':3, '46-50':4, '51-55':5, '55+':6}\n",
    "city_dict = {'A':0, 'B':1, 'C':2}\n",
    "stay_dict = {'0':0, '1':1, '2':2, '3':3, '4+':4}"
   ]
  },
  {
   "cell_type": "code",
   "execution_count": null,
   "metadata": {
    "collapsed": true
   },
   "outputs": [],
   "source": [
    "train_df[\"Gender\"] = train_df[\"Gender\"].apply(lambda x: gender_dict[x])\n",
    "test_df[\"Gender\"] = test_df[\"Gender\"].apply(lambda x: gender_dict[x])\n",
    "\n",
    "train_df[\"Age\"] = train_df[\"Age\"].apply(lambda x: age_dict[x])\n",
    "test_df[\"Age\"] = test_df[\"Age\"].apply(lambda x: age_dict[x])\n",
    "\n",
    "train_df[\"City_Category\"] = train_df[\"City_Category\"].apply(lambda x: city_dict[x])\n",
    "test_df[\"City_Category\"] = test_df[\"City_Category\"].apply(lambda x: city_dict[x])\n",
    "\n",
    "train_df[\"Stay_In_Current_City_Years\"] = train_df[\"Stay_In_Current_City_Years\"].apply(lambda x: stay_dict[x])\n",
    "test_df[\"Stay_In_Current_City_Years\"] = test_df[\"Stay_In_Current_City_Years\"].apply(lambda x: stay_dict[x])"
   ]
  },
  {
   "cell_type": "code",
   "execution_count": null,
   "metadata": {},
   "outputs": [],
   "source": [
    "def getCountVar(compute_df, count_df, var_name):\n",
    "    grouped_df = count_df.groupby(var_name)\n",
    "    count_dict = {}\n",
    "    for name, group in grouped_df:\n",
    "        count_dict[name] = group.shape[0]\n",
    "    count_list = []\n",
    "    for index, row in compute_df.iterrows():\n",
    "        name = row[var_name]\n",
    "        count_list.append(count_dict.get(name, 0))\n",
    "    return count_list"
   ]
  },
  {
   "cell_type": "code",
   "execution_count": null,
   "metadata": {
    "collapsed": true
   },
   "outputs": [],
   "source": [
    "\n",
    "train_df[\"Age_Count\"] = getCountVar(train_df, train_df, \"Age\")\n",
    "test_df[\"Age_Count\"] = getCountVar(test_df, train_df, \"Age\")\n",
    "\n",
    "\n",
    "train_df[\"Occupation_Count\"] = getCountVar(train_df, train_df, \"Occupation\")\n",
    "test_df[\"Occupation_Count\"] = getCountVar(test_df, train_df, \"Occupation\")\n",
    "#print \"Occupation\", np.unique(test_df[\"Occupation_Count\"])\n",
    "\n",
    "train_df[\"Product_Category_1_Count\"] = getCountVar(train_df, train_df, \"Product_Category_1\")\n",
    "test_df[\"Product_Category_1_Count\"] = getCountVar(test_df, train_df, \"Product_Category_1\")\n",
    "\n",
    "#print \"Cat 1 \",np.unique(test_df[\"Product_Category_1_Count\"])\n",
    "\n",
    "train_df[\"Product_Category_2_Count\"] = getCountVar(train_df, train_df, \"Product_Category_2\")\n",
    "test_df[\"Product_Category_2_Count\"] = getCountVar(test_df, train_df, \"Product_Category_2\")\n",
    "#print \"Cat 2 \", np.unique(test_df[\"Product_Category_2_Count\"])\n",
    "\n",
    "train_df[\"Product_Category_3_Count\"] = getCountVar(train_df, train_df, \"Product_Category_3\")\n",
    "test_df[\"Product_Category_3_Count\"] = getCountVar(test_df, train_df, \"Product_Category_3\")\n",
    "#print \"Cat 3 \", np.unique(test_df[\"Product_Category_3_Count\"])\n",
    "\n",
    "train_df[\"User_ID_Count\"] = getCountVar(train_df, train_df, \"User_ID\")\n",
    "test_df[\"User_ID_Count\"] = getCountVar(test_df, train_df, \"User_ID\")\n",
    "#print \"User id \", np.unique(test_df[\"User_ID_Count\"])[:10]\n",
    "\n",
    "train_df[\"Product_ID_Count\"] = getCountVar(train_df, train_df, \"Product_ID\")\n",
    "test_df[\"Product_ID_Count\"] = getCountVar(test_df, train_df, \"Product_ID\")\n",
    "#print \"Product id \", np.unique(test_df[\"Product_ID_Count\"])[:10]\n",
    "\n",
    "train_df.fillna(-999, inplace=True)\n",
    "test_df.fillna(-999, inplace=True)\n"
   ]
  },
  {
   "cell_type": "code",
   "execution_count": null,
   "metadata": {
    "collapsed": true
   },
   "outputs": [],
   "source": []
  }
 ],
 "metadata": {
  "kernelspec": {
   "display_name": "Python 3",
   "language": "python",
   "name": "python3"
  },
  "language_info": {
   "codemirror_mode": {
    "name": "ipython",
    "version": 3
   },
   "file_extension": ".py",
   "mimetype": "text/x-python",
   "name": "python",
   "nbconvert_exporter": "python",
   "pygments_lexer": "ipython3",
   "version": "3.6.1"
  }
 },
 "nbformat": 4,
 "nbformat_minor": 1
}
