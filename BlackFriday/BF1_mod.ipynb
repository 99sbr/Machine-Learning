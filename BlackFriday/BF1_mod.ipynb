{
 "cells": [
  {
   "cell_type": "code",
   "execution_count": 88,
   "metadata": {
    "collapsed": false
   },
   "outputs": [],
   "source": [
    "import pandas as pd\n",
    "train=pd.read_csv('train.csv')\n",
    "test=pd.read_csv('test-comb.csv')"
   ]
  },
  {
   "cell_type": "code",
   "execution_count": 89,
   "metadata": {
    "collapsed": false
   },
   "outputs": [
    {
     "data": {
      "text/plain": [
       "Index(['Unnamed: 0', 'User_ID', 'Product_ID', 'Gender', 'Age', 'Occupation',\n",
       "       'City_Category', 'Stay_In_Current_City_Years', 'Marital_Status',\n",
       "       'Product_Category_1', 'Product_Category_2', 'Product_Category_3',\n",
       "       'Comb'],\n",
       "      dtype='object')"
      ]
     },
     "execution_count": 89,
     "metadata": {},
     "output_type": "execute_result"
    }
   ],
   "source": [
    "test.head()\n",
    "test.columns"
   ]
  },
  {
   "cell_type": "code",
   "execution_count": 90,
   "metadata": {
    "collapsed": true
   },
   "outputs": [],
   "source": [
    "Gender_Dict={'M':1,'F':0}\n",
    "Age_Dict={'0-17':0,'18-25':1,'26-35':2,'36-45':3,'46-50':4,'51-55':5,'55+':6}\n",
    "City_Dict={'A':0,'B':1,'C':2}\n",
    "StayIn_Dict={'0':0,'1':1,'2':2,'3':3,'4+':4}"
   ]
  },
  {
   "cell_type": "code",
   "execution_count": 91,
   "metadata": {
    "collapsed": false
   },
   "outputs": [],
   "source": [
    "train.Gender=train.Gender.apply(lambda x: Gender_Dict[x])\n",
    "test.Gender=test.Gender.apply(lambda x: Gender_Dict[x])\n",
    "\n",
    "train.Age=train.Age.apply(lambda x: Age_Dict[x])\n",
    "test.Age=test.Age.apply(lambda x: Age_Dict[x])\n",
    "\n",
    "train.City_Category=train.City_Category.apply(lambda x: City_Dict[x])\n",
    "test.City_Category=test.City_Category.apply(lambda x: City_Dict[x])\n",
    "\n",
    "train.Stay_In_Current_City_Years=train.Stay_In_Current_City_Years.apply(lambda x: StayIn_Dict[x])\n",
    "test.Stay_In_Current_City_Years=test.Stay_In_Current_City_Years.apply(lambda x: StayIn_Dict[x])"
   ]
  },
  {
   "cell_type": "code",
   "execution_count": 92,
   "metadata": {
    "collapsed": true
   },
   "outputs": [],
   "source": [
    "train.fillna(-1,inplace=True)\n",
    "test.fillna(-1,inplace=True)"
   ]
  },
  {
   "cell_type": "code",
   "execution_count": 93,
   "metadata": {
    "collapsed": true
   },
   "outputs": [],
   "source": [
    "def getCountVar(compute_df, count_df, var_name):\n",
    "        grouped_df = count_df.groupby(var_name)\n",
    "        count_dict = {}\n",
    "        for name, group in grouped_df:\n",
    "                count_dict[name] = group.shape[0]\n",
    "\n",
    "        count_list = []\n",
    "        for index, row in compute_df.iterrows():\n",
    "                name = row[var_name]\n",
    "                count_list.append(count_dict.get(name, 0))\n",
    "        return count_list"
   ]
  },
  {
   "cell_type": "code",
   "execution_count": 94,
   "metadata": {
    "collapsed": true
   },
   "outputs": [],
   "source": [
    "train['Age_Count']=getCountVar(train,train,'Age')\n",
    "test['Age_Count']=getCountVar(test,train,'Age')\n",
    "\n",
    "train['Occupation_Count']=getCountVar(train,train,'Occupation')\n",
    "test['Occupation_Count']=getCountVar(test,train,'Occupation')\n",
    "\n",
    "train['Product_Category_1_Count']=getCountVar(train,train,'Product_Category_1')\n",
    "test['Product_Category_1_Count']=getCountVar(test,train,'Product_Category_1')\n",
    "\n",
    "train['Product_Category_2_Count']=getCountVar(train,train,'Product_Category_2')\n",
    "test['Product_Category_2_Count']=getCountVar(test,train,'Product_Category_2')\n",
    "\n",
    "train['Product_Category_3_Count']=getCountVar(train,train,'Product_Category_3')\n",
    "test['Product_Category_3_Count']=getCountVar(test,train,'Product_Category_3')"
   ]
  },
  {
   "cell_type": "code",
   "execution_count": 95,
   "metadata": {
    "collapsed": false
   },
   "outputs": [
    {
     "data": {
      "text/html": [
       "<div>\n",
       "<table border=\"1\" class=\"dataframe\">\n",
       "  <thead>\n",
       "    <tr style=\"text-align: right;\">\n",
       "      <th></th>\n",
       "      <th>User_ID</th>\n",
       "      <th>Product_ID</th>\n",
       "      <th>Gender</th>\n",
       "      <th>Age</th>\n",
       "      <th>Occupation</th>\n",
       "      <th>City_Category</th>\n",
       "      <th>Stay_In_Current_City_Years</th>\n",
       "      <th>Marital_Status</th>\n",
       "      <th>Product_Category_1</th>\n",
       "      <th>Product_Category_2</th>\n",
       "      <th>Product_Category_3</th>\n",
       "      <th>Purchase</th>\n",
       "      <th>Age_Count</th>\n",
       "      <th>Occupation_Count</th>\n",
       "      <th>Product_Category_1_Count</th>\n",
       "      <th>Product_Category_2_Count</th>\n",
       "      <th>Product_Category_3_Count</th>\n",
       "    </tr>\n",
       "  </thead>\n",
       "  <tbody>\n",
       "    <tr>\n",
       "      <th>0</th>\n",
       "      <td>1000001</td>\n",
       "      <td>P00069042</td>\n",
       "      <td>0</td>\n",
       "      <td>0</td>\n",
       "      <td>10</td>\n",
       "      <td>0</td>\n",
       "      <td>2</td>\n",
       "      <td>0</td>\n",
       "      <td>3</td>\n",
       "      <td>-1.0</td>\n",
       "      <td>-1.0</td>\n",
       "      <td>8370</td>\n",
       "      <td>15102</td>\n",
       "      <td>12930</td>\n",
       "      <td>20213</td>\n",
       "      <td>173638</td>\n",
       "      <td>383247</td>\n",
       "    </tr>\n",
       "    <tr>\n",
       "      <th>1</th>\n",
       "      <td>1000001</td>\n",
       "      <td>P00248942</td>\n",
       "      <td>0</td>\n",
       "      <td>0</td>\n",
       "      <td>10</td>\n",
       "      <td>0</td>\n",
       "      <td>2</td>\n",
       "      <td>0</td>\n",
       "      <td>1</td>\n",
       "      <td>6.0</td>\n",
       "      <td>14.0</td>\n",
       "      <td>15200</td>\n",
       "      <td>15102</td>\n",
       "      <td>12930</td>\n",
       "      <td>140378</td>\n",
       "      <td>16466</td>\n",
       "      <td>18428</td>\n",
       "    </tr>\n",
       "    <tr>\n",
       "      <th>2</th>\n",
       "      <td>1000001</td>\n",
       "      <td>P00087842</td>\n",
       "      <td>0</td>\n",
       "      <td>0</td>\n",
       "      <td>10</td>\n",
       "      <td>0</td>\n",
       "      <td>2</td>\n",
       "      <td>0</td>\n",
       "      <td>12</td>\n",
       "      <td>-1.0</td>\n",
       "      <td>-1.0</td>\n",
       "      <td>1422</td>\n",
       "      <td>15102</td>\n",
       "      <td>12930</td>\n",
       "      <td>3947</td>\n",
       "      <td>173638</td>\n",
       "      <td>383247</td>\n",
       "    </tr>\n",
       "    <tr>\n",
       "      <th>3</th>\n",
       "      <td>1000001</td>\n",
       "      <td>P00085442</td>\n",
       "      <td>0</td>\n",
       "      <td>0</td>\n",
       "      <td>10</td>\n",
       "      <td>0</td>\n",
       "      <td>2</td>\n",
       "      <td>0</td>\n",
       "      <td>12</td>\n",
       "      <td>14.0</td>\n",
       "      <td>-1.0</td>\n",
       "      <td>1057</td>\n",
       "      <td>15102</td>\n",
       "      <td>12930</td>\n",
       "      <td>3947</td>\n",
       "      <td>55108</td>\n",
       "      <td>383247</td>\n",
       "    </tr>\n",
       "    <tr>\n",
       "      <th>4</th>\n",
       "      <td>1000002</td>\n",
       "      <td>P00285442</td>\n",
       "      <td>1</td>\n",
       "      <td>6</td>\n",
       "      <td>16</td>\n",
       "      <td>2</td>\n",
       "      <td>4</td>\n",
       "      <td>0</td>\n",
       "      <td>8</td>\n",
       "      <td>-1.0</td>\n",
       "      <td>-1.0</td>\n",
       "      <td>7969</td>\n",
       "      <td>21504</td>\n",
       "      <td>25371</td>\n",
       "      <td>113925</td>\n",
       "      <td>173638</td>\n",
       "      <td>383247</td>\n",
       "    </tr>\n",
       "  </tbody>\n",
       "</table>\n",
       "</div>"
      ],
      "text/plain": [
       "   User_ID Product_ID  Gender  Age  Occupation  City_Category  \\\n",
       "0  1000001  P00069042       0    0          10              0   \n",
       "1  1000001  P00248942       0    0          10              0   \n",
       "2  1000001  P00087842       0    0          10              0   \n",
       "3  1000001  P00085442       0    0          10              0   \n",
       "4  1000002  P00285442       1    6          16              2   \n",
       "\n",
       "   Stay_In_Current_City_Years  Marital_Status  Product_Category_1  \\\n",
       "0                           2               0                   3   \n",
       "1                           2               0                   1   \n",
       "2                           2               0                  12   \n",
       "3                           2               0                  12   \n",
       "4                           4               0                   8   \n",
       "\n",
       "   Product_Category_2  Product_Category_3  Purchase  Age_Count  \\\n",
       "0                -1.0                -1.0      8370      15102   \n",
       "1                 6.0                14.0     15200      15102   \n",
       "2                -1.0                -1.0      1422      15102   \n",
       "3                14.0                -1.0      1057      15102   \n",
       "4                -1.0                -1.0      7969      21504   \n",
       "\n",
       "   Occupation_Count  Product_Category_1_Count  Product_Category_2_Count  \\\n",
       "0             12930                     20213                    173638   \n",
       "1             12930                    140378                     16466   \n",
       "2             12930                      3947                    173638   \n",
       "3             12930                      3947                     55108   \n",
       "4             25371                    113925                    173638   \n",
       "\n",
       "   Product_Category_3_Count  \n",
       "0                    383247  \n",
       "1                     18428  \n",
       "2                    383247  \n",
       "3                    383247  \n",
       "4                    383247  "
      ]
     },
     "execution_count": 95,
     "metadata": {},
     "output_type": "execute_result"
    }
   ],
   "source": [
    "train.head()"
   ]
  },
  {
   "cell_type": "code",
   "execution_count": 96,
   "metadata": {
    "collapsed": true
   },
   "outputs": [],
   "source": [
    "train.to_csv('train_mod.csv')\n",
    "test.to_csv('test_mod.csv')"
   ]
  },
  {
   "cell_type": "code",
   "execution_count": null,
   "metadata": {
    "collapsed": false
   },
   "outputs": [],
   "source": []
  },
  {
   "cell_type": "code",
   "execution_count": null,
   "metadata": {
    "collapsed": false
   },
   "outputs": [],
   "source": []
  },
  {
   "cell_type": "code",
   "execution_count": null,
   "metadata": {
    "collapsed": false
   },
   "outputs": [],
   "source": []
  },
  {
   "cell_type": "code",
   "execution_count": null,
   "metadata": {
    "collapsed": false
   },
   "outputs": [],
   "source": []
  },
  {
   "cell_type": "code",
   "execution_count": null,
   "metadata": {
    "collapsed": false
   },
   "outputs": [],
   "source": []
  },
  {
   "cell_type": "code",
   "execution_count": null,
   "metadata": {
    "collapsed": false
   },
   "outputs": [],
   "source": []
  },
  {
   "cell_type": "code",
   "execution_count": null,
   "metadata": {
    "collapsed": true
   },
   "outputs": [],
   "source": []
  },
  {
   "cell_type": "code",
   "execution_count": null,
   "metadata": {
    "collapsed": false
   },
   "outputs": [],
   "source": []
  },
  {
   "cell_type": "code",
   "execution_count": null,
   "metadata": {
    "collapsed": false
   },
   "outputs": [],
   "source": []
  },
  {
   "cell_type": "code",
   "execution_count": null,
   "metadata": {
    "collapsed": false
   },
   "outputs": [],
   "source": []
  },
  {
   "cell_type": "code",
   "execution_count": null,
   "metadata": {
    "collapsed": true
   },
   "outputs": [],
   "source": []
  }
 ],
 "metadata": {
  "anaconda-cloud": {},
  "kernelspec": {
   "display_name": "Python [Root]",
   "language": "python",
   "name": "Python [Root]"
  },
  "language_info": {
   "codemirror_mode": {
    "name": "ipython",
    "version": 3
   },
   "file_extension": ".py",
   "mimetype": "text/x-python",
   "name": "python",
   "nbconvert_exporter": "python",
   "pygments_lexer": "ipython3",
   "version": "3.5.2"
  }
 },
 "nbformat": 4,
 "nbformat_minor": 0
}
