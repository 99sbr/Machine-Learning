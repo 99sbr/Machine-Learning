{
 "cells": [
  {
   "cell_type": "code",
   "execution_count": 1,
   "metadata": {
    "collapsed": true
   },
   "outputs": [],
   "source": [
    "import os,glob\n",
    "import pandas as pd"
   ]
  },
  {
   "cell_type": "code",
   "execution_count": 2,
   "metadata": {},
   "outputs": [],
   "source": [
    "data=pd.read_csv('Validtion.csv')"
   ]
  },
  {
   "cell_type": "code",
   "execution_count": 3,
   "metadata": {},
   "outputs": [
    {
     "data": {
      "text/html": [
       "<div>\n",
       "<style>\n",
       "    .dataframe thead tr:only-child th {\n",
       "        text-align: right;\n",
       "    }\n",
       "\n",
       "    .dataframe thead th {\n",
       "        text-align: left;\n",
       "    }\n",
       "\n",
       "    .dataframe tbody tr th {\n",
       "        vertical-align: top;\n",
       "    }\n",
       "</style>\n",
       "<table border=\"1\" class=\"dataframe\">\n",
       "  <thead>\n",
       "    <tr style=\"text-align: right;\">\n",
       "      <th></th>\n",
       "      <th>X-One Reference</th>\n",
       "      <th>Amount</th>\n",
       "      <th>Currency</th>\n",
       "      <th>Buy/Sell</th>\n",
       "      <th>Instrument Name</th>\n",
       "      <th>Product Price</th>\n",
       "      <th>Maturity Date</th>\n",
       "      <th>Trade Date</th>\n",
       "      <th>Option Type</th>\n",
       "      <th>Strike</th>\n",
       "      <th>Broker Fees</th>\n",
       "      <th>Broker Fees Ccy</th>\n",
       "      <th>Underlying Name</th>\n",
       "    </tr>\n",
       "  </thead>\n",
       "  <tbody>\n",
       "    <tr>\n",
       "      <th>0</th>\n",
       "      <td>ELI-975159584</td>\n",
       "      <td>184000.00</td>\n",
       "      <td>KRW</td>\n",
       "      <td>Buy</td>\n",
       "      <td>EquityFuture</td>\n",
       "      <td>184000.000000</td>\n",
       "      <td>42992.0</td>\n",
       "      <td>42964</td>\n",
       "      <td>NaN</td>\n",
       "      <td>NaN</td>\n",
       "      <td>73.60000</td>\n",
       "      <td>KRW</td>\n",
       "      <td>036490.KQ</td>\n",
       "    </tr>\n",
       "    <tr>\n",
       "      <th>1</th>\n",
       "      <td>ELI-962384133</td>\n",
       "      <td>134010.00</td>\n",
       "      <td>SGD</td>\n",
       "      <td>Sell</td>\n",
       "      <td>EquityFuture</td>\n",
       "      <td>357.360000</td>\n",
       "      <td>42947.0</td>\n",
       "      <td>42913</td>\n",
       "      <td>NaN</td>\n",
       "      <td>NaN</td>\n",
       "      <td>0.00000</td>\n",
       "      <td>SGD</td>\n",
       "      <td>MSCI-SIN</td>\n",
       "    </tr>\n",
       "    <tr>\n",
       "      <th>2</th>\n",
       "      <td>ELI-962323609</td>\n",
       "      <td>178750.00</td>\n",
       "      <td>SGD</td>\n",
       "      <td>Buy</td>\n",
       "      <td>EquityFuture</td>\n",
       "      <td>357.500000</td>\n",
       "      <td>42916.0</td>\n",
       "      <td>42913</td>\n",
       "      <td>NaN</td>\n",
       "      <td>NaN</td>\n",
       "      <td>0.00000</td>\n",
       "      <td>SGD</td>\n",
       "      <td>MSCI-SIN</td>\n",
       "    </tr>\n",
       "    <tr>\n",
       "      <th>3</th>\n",
       "      <td>ELI-948923819</td>\n",
       "      <td>2788.04</td>\n",
       "      <td>AUD</td>\n",
       "      <td>Buy</td>\n",
       "      <td>EquitySecurity</td>\n",
       "      <td>11.063651</td>\n",
       "      <td>NaN</td>\n",
       "      <td>42859</td>\n",
       "      <td>NaN</td>\n",
       "      <td>NaN</td>\n",
       "      <td>0.11431</td>\n",
       "      <td>AUD</td>\n",
       "      <td>SEV.AX</td>\n",
       "    </tr>\n",
       "    <tr>\n",
       "      <th>4</th>\n",
       "      <td>ELI-946416395</td>\n",
       "      <td>30219.00</td>\n",
       "      <td>HKD</td>\n",
       "      <td>Sell</td>\n",
       "      <td>EquityFuture</td>\n",
       "      <td>10073.000000</td>\n",
       "      <td>42852.0</td>\n",
       "      <td>42849</td>\n",
       "      <td>NaN</td>\n",
       "      <td>NaN</td>\n",
       "      <td>12.00000</td>\n",
       "      <td>HKD</td>\n",
       "      <td>HSCE</td>\n",
       "    </tr>\n",
       "  </tbody>\n",
       "</table>\n",
       "</div>"
      ],
      "text/plain": [
       "  X-One Reference     Amount Currency Buy/Sell Instrument Name  Product Price  \\\n",
       "0   ELI-975159584  184000.00      KRW      Buy    EquityFuture  184000.000000   \n",
       "1   ELI-962384133  134010.00      SGD     Sell    EquityFuture     357.360000   \n",
       "2   ELI-962323609  178750.00      SGD      Buy    EquityFuture     357.500000   \n",
       "3   ELI-948923819    2788.04      AUD      Buy  EquitySecurity      11.063651   \n",
       "4   ELI-946416395   30219.00      HKD     Sell    EquityFuture   10073.000000   \n",
       "\n",
       "   Maturity Date  Trade Date Option Type  Strike  Broker Fees Broker Fees Ccy  \\\n",
       "0        42992.0       42964         NaN     NaN     73.60000             KRW   \n",
       "1        42947.0       42913         NaN     NaN      0.00000             SGD   \n",
       "2        42916.0       42913         NaN     NaN      0.00000             SGD   \n",
       "3            NaN       42859         NaN     NaN      0.11431             AUD   \n",
       "4        42852.0       42849         NaN     NaN     12.00000             HKD   \n",
       "\n",
       "  Underlying Name  \n",
       "0       036490.KQ  \n",
       "1        MSCI-SIN  \n",
       "2        MSCI-SIN  \n",
       "3          SEV.AX  \n",
       "4            HSCE  "
      ]
     },
     "execution_count": 3,
     "metadata": {},
     "output_type": "execute_result"
    }
   ],
   "source": [
    "data.head()"
   ]
  },
  {
   "cell_type": "code",
   "execution_count": 6,
   "metadata": {},
   "outputs": [],
   "source": [
    "columns=list(data.columns[1:])"
   ]
  },
  {
   "cell_type": "code",
   "execution_count": 7,
   "metadata": {},
   "outputs": [
    {
     "data": {
      "text/plain": [
       "['Amount',\n",
       " 'Currency',\n",
       " 'Buy/Sell',\n",
       " 'Instrument Name',\n",
       " 'Product Price',\n",
       " 'Maturity Date',\n",
       " 'Trade Date',\n",
       " 'Option Type',\n",
       " 'Strike',\n",
       " 'Broker Fees',\n",
       " 'Broker Fees Ccy',\n",
       " 'Underlying Name']"
      ]
     },
     "execution_count": 7,
     "metadata": {},
     "output_type": "execute_result"
    }
   ],
   "source": [
    "columns"
   ]
  },
  {
   "cell_type": "code",
   "execution_count": null,
   "metadata": {
    "collapsed": true
   },
   "outputs": [],
   "source": [
    "for i in range(len(data)):\n",
    "    for col in columns:\n",
    "    data[]"
   ]
  }
 ],
 "metadata": {
  "kernelspec": {
   "display_name": "Python 3",
   "language": "python",
   "name": "python3"
  },
  "language_info": {
   "codemirror_mode": {
    "name": "ipython",
    "version": 3
   },
   "file_extension": ".py",
   "mimetype": "text/x-python",
   "name": "python",
   "nbconvert_exporter": "python",
   "pygments_lexer": "ipython3",
   "version": "3.6.3"
  }
 },
 "nbformat": 4,
 "nbformat_minor": 2
}
