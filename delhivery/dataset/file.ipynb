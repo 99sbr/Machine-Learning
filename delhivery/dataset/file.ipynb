{
 "cells": [
  {
   "cell_type": "code",
   "execution_count": 2,
   "metadata": {
    "collapsed": false
   },
   "outputs": [],
   "source": [
    "from keras.models import load_model\n",
    "import scipy.misc\n",
    "import cv2\n",
    "import pandas as pd\n",
    "import operator\n",
    "import numpy as np\n",
    "import h5py\n",
    "import matplotlib.pyplot as plt\n",
    "root_dir=\"/home/delhivery\"\n",
    "rel_path=\"/Desktop/dataset\"\n",
    "test=pd.read_csv(root_dir+rel_path+\"/Test.csv\")\n",
    "#model= load_model('digit_classifier.19-0.034.hdf5')\n",
    "img_test=np.zeros((21000,28,28))\n",
    "x=range(0,21000)\n",
    "for i in range(len(test)):\n",
    "    img=scipy.misc.imread(root_dir+rel_path+\"/Train/Images/test/\"+test.filename[i])\n",
    "    img = cv2.cvtColor( img, cv2.COLOR_RGB2GRAY )\n",
    "    img_test[i]=img\n",
    "img_test = img_test.reshape(img_test.shape[0], 1,28, 28).astype('float32')\n",
    "img_test=img_test / 255\n",
    "\n"
   ]
  },
  {
   "cell_type": "code",
   "execution_count": 3,
   "metadata": {
    "collapsed": false
   },
   "outputs": [
    {
     "name": "stdout",
     "output_type": "stream",
     "text": [
      "[1 2 3 4 5]\n",
      "[1 2 3 4 5]\n"
     ]
    }
   ],
   "source": [
    "a=[1,2,3,4,5]\n",
    "y=[1,2,3,4,5]\n",
    "print(np.array(a))\n",
    "print(np.array(y))"
   ]
  },
  {
   "cell_type": "code",
   "execution_count": 3,
   "metadata": {
    "collapsed": false
   },
   "outputs": [],
   "source": [
    "y=[[ 0.24765372 , 0.75234628],\n",
    " [ 0.92151195 , 0.07848804],\n",
    " [ 0.87685525  ,0.12314477],\n",
    " [ 0.83907425 , 0.16092578],\n",
    " [ 0.91516393 , 0.08483604],\n",
    " [ 0.97130436  ,0.02869562],\n",
    " [ 0.23225641  ,0.76774359],\n",
    " [ 0.77792627  ,0.22207372],\n",
    " [ 0.27431679  ,0.72568321],\n",
    " [ 0.38889825  ,0.61110175]]\n"
   ]
  },
  {
   "cell_type": "code",
   "execution_count": 9,
   "metadata": {
    "collapsed": false
   },
   "outputs": [
    {
     "data": {
      "text/plain": [
       "0.75234628"
      ]
     },
     "execution_count": 9,
     "metadata": {},
     "output_type": "execute_result"
    }
   ],
   "source": [
    "y[0][1]"
   ]
  },
  {
   "cell_type": "code",
   "execution_count": null,
   "metadata": {
    "collapsed": true
   },
   "outputs": [],
   "source": []
  }
 ],
 "metadata": {
  "anaconda-cloud": {},
  "kernelspec": {
   "display_name": "Python 3",
   "language": "python",
   "name": "python3"
  },
  "language_info": {
   "codemirror_mode": {
    "name": "ipython",
    "version": 3
   },
   "file_extension": ".py",
   "mimetype": "text/x-python",
   "name": "python",
   "nbconvert_exporter": "python",
   "pygments_lexer": "ipython3",
   "version": "3.5.1"
  }
 },
 "nbformat": 4,
 "nbformat_minor": 1
}
