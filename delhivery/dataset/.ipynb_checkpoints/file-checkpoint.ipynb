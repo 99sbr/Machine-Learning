{
 "cells": [
  {
   "cell_type": "code",
   "execution_count": 1,
   "metadata": {
    "collapsed": false
   },
   "outputs": [
    {
     "name": "stderr",
     "output_type": "stream",
     "text": [
      "Using TensorFlow backend.\n"
     ]
    },
    {
     "name": "stdout",
     "output_type": "stream",
     "text": [
      "21000/21000 [==============================] - 58s    \n"
     ]
    }
   ],
   "source": [
    "from keras.models import load_model\n",
    "import scipy.misc\n",
    "import cv2\n",
    "import pandas as pd\n",
    "import operator\n",
    "import numpy as np\n",
    "import h5py\n",
    "import matplotlib.pyplot as plt\n",
    "root_dir=\"/home/delhivery\"\n",
    "rel_path=\"/Desktop/dataset\"\n",
    "test=pd.read_csv(root_dir+rel_path+\"/Test.csv\")\n",
    "model= load_model('digit_classifier.19-0.034.hdf5')\n",
    "img_test=np.zeros((21000,28,28))\n",
    "x=range(0,21000)\n",
    "for i in range(len(test)):\n",
    "    img=scipy.misc.imread(root_dir+rel_path+\"/Train/Images/test/\"+test.filename[i])\n",
    "    img = cv2.cvtColor( img, cv2.COLOR_RGB2GRAY )\n",
    "    img_test[i]=img\n",
    "img_test = img_test.reshape(img_test.shape[0], 1,28, 28).astype('float32')\n",
    "img_test=img_test / 255\n",
    "preds = model.predict (img_test, verbose=1)\n"
   ]
  },
  {
   "cell_type": "code",
   "execution_count": 8,
   "metadata": {
    "collapsed": false
   },
   "outputs": [
    {
     "data": {
      "text/plain": [
       "21000"
      ]
     },
     "execution_count": 8,
     "metadata": {},
     "output_type": "execute_result"
    }
   ],
   "source": [
    "len(preds)\n",
    "\n"
   ]
  },
  {
   "cell_type": "code",
   "execution_count": 22,
   "metadata": {
    "collapsed": false
   },
   "outputs": [
    {
     "data": {
      "text/plain": [
       "array([[  7.21402410e-18,   3.87337596e-14,   4.93253702e-12, ...,\n",
       "          2.39269299e-11,   1.35011290e-11,   1.29419462e-08],\n",
       "       [  9.99965072e-01,   1.89767824e-09,   2.81796952e-06, ...,\n",
       "          3.17063126e-10,   1.40628049e-06,   1.63284458e-05],\n",
       "       [  1.10540006e-12,   2.90821952e-14,   1.15399465e-12, ...,\n",
       "          2.94441416e-11,   1.69617384e-15,   9.99974608e-01],\n",
       "       ..., \n",
       "       [  4.93425789e-09,   2.23163091e-15,   5.37911625e-11, ...,\n",
       "          3.14136026e-14,   9.43493200e-12,   2.92665458e-12],\n",
       "       [  2.15987922e-10,   5.49696259e-17,   1.55909649e-12, ...,\n",
       "          2.86161509e-14,   7.17718454e-11,   8.69179087e-17],\n",
       "       [  4.27061977e-08,   2.03930067e-10,   9.99999881e-01, ...,\n",
       "          9.17120602e-10,   5.25933767e-12,   5.83531623e-09]], dtype=float32)"
      ]
     },
     "execution_count": 22,
     "metadata": {},
     "output_type": "execute_result"
    }
   ],
   "source": [
    "preds[:]"
   ]
  },
  {
   "cell_type": "code",
   "execution_count": 26,
   "metadata": {
    "collapsed": false
   },
   "outputs": [
    {
     "data": {
      "image/png": "[encoded data removed]",
      "text/plain": [
       "<matplotlib.figure.Figure at 0x7f04950abeb8>"
      ]
     },
     "metadata": {},
     "output_type": "display_data"
    }
   ],
   "source": [
    "index=[]\n",
    "for ind in range(len(preds)):\n",
    "    index.append(max(enumerate(preds[ind]), key=operator.itemgetter(1))[0])"
   ]
  },
  {
   "cell_type": "code",
   "execution_count": null,
   "metadata": {
    "collapsed": true
   },
   "outputs": [],
   "source": []
  }
 ],
 "metadata": {
  "anaconda-cloud": {},
  "kernelspec": {
   "display_name": "Python [conda root]",
   "language": "python",
   "name": "conda-root-py"
  },
  "language_info": {
   "codemirror_mode": {
    "name": "ipython",
    "version": 3
   },
   "file_extension": ".py",
   "mimetype": "text/x-python",
   "name": "python",
   "nbconvert_exporter": "python",
   "pygments_lexer": "ipython3",
   "version": "3.5.2"
  }
 },
 "nbformat": 4,
 "nbformat_minor": 1
}
