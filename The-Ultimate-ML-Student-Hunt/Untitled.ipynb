{
 "cells": [
  {
   "cell_type": "code",
   "execution_count": 14,
   "metadata": {
    "collapsed": false
   },
   "outputs": [],
   "source": [
    "import pandas as pd\n",
    "train_data = pd.read_csv('Train_xyqdbho.csv')\n",
    "test_data = pd.read_csv('Test_pyI9Owa.csv')\n",
    "from datetime import datetime\n",
    "import datetime as dt\n",
    "train_data['Year'] = pd.DatetimeIndex(train_data['Date']).year\n",
    "train_data['Month'] = pd.DatetimeIndex(train_data['Date']).month\n",
    "train_data['Day'] = pd.DatetimeIndex(train_data['Date']).day\n",
    "del train_data['Date']\n",
    "del train_data['Var1']\n",
    "train_data.fillna(0,inplace=True)\n",
    "#####################################\n",
    "test_data['Year'] = pd.DatetimeIndex(test_data['Date']).year\n",
    "test_data['Month'] = pd.DatetimeIndex(test_data['Date']).month\n",
    "test_data['Day'] = pd.DatetimeIndex(test_data['Date']).day\n",
    "del test_data['Date']\n",
    "del test_data['Var1']\n",
    "test_data.fillna(0,inplace=True)\n",
    "X_test=test_data\n",
    "##############################################\n",
    "\n",
    "from sklearn.cross_validation import train_test_split\n",
    "from sklearn.svm import SVR\n",
    "y_train=train_data.Footfall\n",
    "X_train=train_data.drop('Footfall',1)\n",
    "################################################\n",
    "#X_test=test_data.drop('Footfall',1)\n",
    "#X_train, X_test, y_train, y_test = train_test_split(X, y, test_size=0.50, random_state=42)\n"
   ]
  },
  {
   "cell_type": "code",
   "execution_count": 15,
   "metadata": {
    "collapsed": false
   },
   "outputs": [],
   "source": [
    "del X_train['Day']\n",
    "del X_train['Year']\n",
    "del X_train['Direction_Of_Wind']\n",
    "X_train['Breeze_Speed']= (X_train['Max_Breeze_Speed']-X_train['Min_Breeze_Speed'])/X_train['Average_Breeze_Speed']\n",
    "del X_train['Max_Breeze_Speed']\n",
    "del X_train['Min_Breeze_Speed']\n",
    "del X_train['Average_Breeze_Speed']\n",
    "X_train['Atmospheric_Pressure']= (X_train['Max_Atmospheric_Pressure']-X_train['Min_Atmospheric_Pressure'])/X_train['Average_Atmospheric_Pressure']\n",
    "del X_train['Max_Atmospheric_Pressure']\n",
    "del X_train['Min_Atmospheric_Pressure']\n",
    "del X_train['Average_Atmospheric_Pressure']\n",
    "X_train['Ambient_Pollution']= (X_train['Max_Ambient_Pollution']/X_train['Min_Ambient_Pollution'])\n",
    "del X_train['Max_Ambient_Pollution']\n",
    "del X_train['Min_Ambient_Pollution']\n",
    "X_train['Moisture_In_Park']= (X_train['Max_Moisture_In_Park']-X_train['Min_Moisture_In_Park'])/X_train['Average_Moisture_In_Park']\n",
    "del X_train['Max_Moisture_In_Park']\n",
    "del X_train['Min_Moisture_In_Park']\n",
    "del X_train['Average_Moisture_In_Park']\n",
    "del X_test['Day']\n",
    "del X_test['Year']\n",
    "del X_test['Direction_Of_Wind']\n",
    "X_test['Breeze_Speed']= (X_test['Max_Breeze_Speed']-X_test['Min_Breeze_Speed'])/X_test['Average_Breeze_Speed']\n",
    "del X_test['Max_Breeze_Speed']\n",
    "del X_test['Min_Breeze_Speed']\n",
    "del X_test['Average_Breeze_Speed']\n",
    "X_test['Atmospheric_Pressure']= (X_test['Max_Atmospheric_Pressure']-X_test['Min_Atmospheric_Pressure'])/X_test['Average_Atmospheric_Pressure']\n",
    "del X_test['Max_Atmospheric_Pressure']\n",
    "del X_test['Min_Atmospheric_Pressure']\n",
    "del X_test['Average_Atmospheric_Pressure']\n",
    "X_test['Ambient_Pollution']= (X_test['Max_Ambient_Pollution']/X_test['Min_Ambient_Pollution'])\n",
    "del X_test['Max_Ambient_Pollution']\n",
    "del X_test['Min_Ambient_Pollution']\n",
    "X_test['Moisture_In_Park']= (X_test['Max_Moisture_In_Park']-X_test['Min_Moisture_In_Park'])/X_test['Average_Moisture_In_Park']\n",
    "del X_test['Max_Moisture_In_Park']\n",
    "del X_test['Min_Moisture_In_Park']\n",
    "del X_test['Average_Moisture_In_Park']\n",
    "X_train.fillna(0,inplace=True)\n",
    "X_test.fillna(0,inplace=True)"
   ]
  },
  {
   "cell_type": "code",
   "execution_count": 12,
   "metadata": {
    "collapsed": true
   },
   "outputs": [],
   "source": [
    "\n",
    "from sklearn.svm import SVR\n",
    "\n",
    "svr_rbf = SVR(kernel='rbf', C=1e3, gamma=0.1)"
   ]
  },
  {
   "cell_type": "code",
   "execution_count": 13,
   "metadata": {
    "collapsed": false
   },
   "outputs": [
    {
     "data": {
      "text/plain": [
       "SVR(C=1000.0, cache_size=200, coef0=0.0, degree=3, epsilon=0.1, gamma=0.1,\n",
       "  kernel='rbf', max_iter=-1, shrinking=True, tol=0.001, verbose=False)"
      ]
     },
     "execution_count": 13,
     "metadata": {},
     "output_type": "execute_result"
    }
   ],
   "source": [
    "svr_rbf.fit(X_train, y_train)\n"
   ]
  },
  {
   "cell_type": "code",
   "execution_count": 19,
   "metadata": {
    "collapsed": true
   },
   "outputs": [],
   "source": [
    "y_rbf=svr_rbf.predict(X_test)"
   ]
  },
  {
   "cell_type": "code",
   "execution_count": null,
   "metadata": {
    "collapsed": false
   },
   "outputs": [],
   "source": []
  },
  {
   "cell_type": "code",
   "execution_count": 20,
   "metadata": {
    "collapsed": false
   },
   "outputs": [
    {
     "data": {
      "text/plain": [
       "152.10373709600023"
      ]
     },
     "execution_count": 20,
     "metadata": {},
     "output_type": "execute_result"
    }
   ],
   "source": [
    "rmse"
   ]
  },
  {
   "cell_type": "code",
   "execution_count": 21,
   "metadata": {
    "collapsed": true
   },
   "outputs": [],
   "source": [
    "\n",
    "output = pd.DataFrame( data={\"ID\": X_test[\"ID\"], \"Footfall\":y_rbf} )\n",
    "#output.loc[output['Loan_Status']==-1,'Loan_Status']=0\n",
    "# Use pandas to write the comma-separated output file\n",
    "output.to_csv( \"Submission.csv\", index=False, quoting=3 )"
   ]
  },
  {
   "cell_type": "code",
   "execution_count": 7,
   "metadata": {
    "collapsed": true
   },
   "outputs": [],
   "source": [
    "from sklearn.ensemble import AdaBoostRegressor #For Regression\n",
    "from sklearn.tree import DecisionTreeRegressor"
   ]
  },
  {
   "cell_type": "code",
   "execution_count": 8,
   "metadata": {
    "collapsed": false
   },
   "outputs": [
    {
     "data": {
      "text/plain": [
       "AdaBoostRegressor(base_estimator=DecisionTreeRegressor(criterion='mse', max_depth=None, max_features=None,\n",
       "           max_leaf_nodes=None, min_samples_leaf=1, min_samples_split=2,\n",
       "           min_weight_fraction_leaf=0.0, presort=False, random_state=None,\n",
       "           splitter='best'),\n",
       "         learning_rate=1, loss='linear', n_estimators=100,\n",
       "         random_state=None)"
      ]
     },
     "execution_count": 8,
     "metadata": {},
     "output_type": "execute_result"
    }
   ],
   "source": [
    "dt= DecisionTreeRegressor()\n",
    "clf = AdaBoostRegressor(n_estimators=100, base_estimator=dt,learning_rate=1)\n",
    "#Above I have used decision tree as a base estimator, you can use any ML learner as base estimator if it ac# cepts sample weight \n",
    "clf.fit(X_train, y_train)"
   ]
  },
  {
   "cell_type": "code",
   "execution_count": 9,
   "metadata": {
    "collapsed": true
   },
   "outputs": [],
   "source": [
    "y=clf.predict(X_test)"
   ]
  },
  {
   "cell_type": "code",
   "execution_count": 10,
   "metadata": {
    "collapsed": true
   },
   "outputs": [],
   "source": [
    "output = pd.DataFrame( data={\"ID\": X_test[\"ID\"], \"Footfall\":y} )\n",
    "#output.loc[output['Loan_Status']==-1,'Loan_Status']=0\n",
    "# Use pandas to write the comma-separated output file\n",
    "output.to_csv( \"Submission2.csv\", index=False, quoting=3 )"
   ]
  },
  {
   "cell_type": "code",
   "execution_count": 38,
   "metadata": {
    "collapsed": false
   },
   "outputs": [
    {
     "data": {
      "text/plain": [
       "GradientBoostingRegressor(alpha=0.9, init=None, learning_rate=0.1, loss='ls',\n",
       "             max_depth=5, max_features=None, max_leaf_nodes=None,\n",
       "             min_samples_leaf=1, min_samples_split=2,\n",
       "             min_weight_fraction_leaf=0.0, n_estimators=30, presort='auto',\n",
       "             random_state=None, subsample=1.0, verbose=0, warm_start=False)"
      ]
     },
     "execution_count": 38,
     "metadata": {},
     "output_type": "execute_result"
    }
   ],
   "source": [
    "from sklearn.ensemble import GradientBoostingRegressor #For Regression\n",
    "clf = GradientBoostingRegressor(n_estimators=30, learning_rate=0.1, max_depth=5)\n",
    "clf.fit(X_train, y_train)"
   ]
  },
  {
   "cell_type": "code",
   "execution_count": 39,
   "metadata": {
    "collapsed": true
   },
   "outputs": [],
   "source": [
    "y=clf.predict(X_test)"
   ]
  },
  {
   "cell_type": "code",
   "execution_count": 40,
   "metadata": {
    "collapsed": true
   },
   "outputs": [],
   "source": [
    "output = pd.DataFrame( data={\"ID\": X_test[\"ID\"], \"Footfall\":y} )\n",
    "\n",
    "#output.loc[output['Loan_Status']==-1,'Loan_Status']=0\n",
    "\n",
    "# Use pandas to write the comma-separated output file\n",
    "\n",
    "output.to_csv( \"Submission6.csv\", index=False, quoting=3 )"
   ]
  },
  {
   "cell_type": "code",
   "execution_count": null,
   "metadata": {
    "collapsed": true
   },
   "outputs": [],
   "source": []
  }
 ],
 "metadata": {
  "anaconda-cloud": {},
  "kernelspec": {
   "display_name": "Python [Root]",
   "language": "python",
   "name": "Python [Root]"
  },
  "language_info": {
   "codemirror_mode": {
    "name": "ipython",
    "version": 3
   },
   "file_extension": ".py",
   "mimetype": "text/x-python",
   "name": "python",
   "nbconvert_exporter": "python",
   "pygments_lexer": "ipython3",
   "version": "3.5.2"
  }
 },
 "nbformat": 4,
 "nbformat_minor": 0
}
