{
 "cells": [
  {
   "cell_type": "code",
   "execution_count": 80,
   "metadata": {
    "collapsed": false
   },
   "outputs": [],
   "source": [
    "import pandas as pd\n",
    "train_data = pd.read_csv('Train_xyqdbho.csv')\n",
    "test_data = pd.read_csv('Test_pyI9Owa.csv')\n",
    "from datetime import datetime\n",
    "import datetime as dt\n",
    "train_data['Year'] = pd.DatetimeIndex(train_data['Date']).year\n",
    "train_data['Month'] = pd.DatetimeIndex(train_data['Date']).month\n",
    "train_data['Day'] = pd.DatetimeIndex(train_data['Date']).day\n",
    "del train_data['Date']\n",
    "del train_data['Var1']\n",
    "train_data.fillna(0,inplace=True)\n",
    "#####################################\n",
    "test_data['Year'] = pd.DatetimeIndex(test_data['Date']).year\n",
    "test_data['Month'] = pd.DatetimeIndex(test_data['Date']).month\n",
    "test_data['Day'] = pd.DatetimeIndex(test_data['Date']).day\n",
    "del test_data['Date']\n",
    "del test_data['Var1']\n",
    "test_data.fillna(0,inplace=True)\n",
    "X_test=test_data\n",
    "##############################################\n",
    "\n",
    "from sklearn.cross_validation import train_test_split\n",
    "from sklearn.svm import SVR\n",
    "y_train=train_data.Footfall\n",
    "#X_train=train_data.drop('Footfall',1)\n",
    "\n",
    "################################################\n",
    "X_test=test_data\n",
    "#X_train, X_test, y_train, y_test = train_test_split(X, y, test_size=0.50, random_state=42)\n"
   ]
  },
  {
   "cell_type": "code",
   "execution_count": 81,
   "metadata": {
    "collapsed": false
   },
   "outputs": [],
   "source": [
    "test_data.head()\n",
    "test_ID=test_data.ID\n",
    "X_train=train_data"
   ]
  },
  {
   "cell_type": "code",
   "execution_count": 82,
   "metadata": {
    "collapsed": false
   },
   "outputs": [
    {
     "data": {
      "text/html": [
       "<div>\n",
       "<table border=\"1\" class=\"dataframe\">\n",
       "  <thead>\n",
       "    <tr style=\"text-align: right;\">\n",
       "      <th></th>\n",
       "      <th>Direction_Of_Wind</th>\n",
       "      <th>Average_Breeze_Speed</th>\n",
       "      <th>Max_Breeze_Speed</th>\n",
       "      <th>Min_Breeze_Speed</th>\n",
       "      <th>Average_Atmospheric_Pressure</th>\n",
       "      <th>Max_Atmospheric_Pressure</th>\n",
       "      <th>Min_Atmospheric_Pressure</th>\n",
       "      <th>Min_Ambient_Pollution</th>\n",
       "      <th>Max_Ambient_Pollution</th>\n",
       "      <th>Average_Moisture_In_Park</th>\n",
       "      <th>Max_Moisture_In_Park</th>\n",
       "      <th>Min_Moisture_In_Park</th>\n",
       "      <th>Location_Type</th>\n",
       "      <th>Footfall</th>\n",
       "      <th>Year</th>\n",
       "      <th>Month</th>\n",
       "      <th>Day</th>\n",
       "    </tr>\n",
       "  </thead>\n",
       "  <tbody>\n",
       "    <tr>\n",
       "      <th>0</th>\n",
       "      <td>3.384222</td>\n",
       "      <td>37.24</td>\n",
       "      <td>60.8</td>\n",
       "      <td>15.2</td>\n",
       "      <td>8225.0</td>\n",
       "      <td>8259.0</td>\n",
       "      <td>8211.0</td>\n",
       "      <td>92.0</td>\n",
       "      <td>304.0</td>\n",
       "      <td>255.0</td>\n",
       "      <td>288.0</td>\n",
       "      <td>222.0</td>\n",
       "      <td>3</td>\n",
       "      <td>1406</td>\n",
       "      <td>1990</td>\n",
       "      <td>1</td>\n",
       "      <td>9</td>\n",
       "    </tr>\n",
       "    <tr>\n",
       "      <th>1</th>\n",
       "      <td>4.971667</td>\n",
       "      <td>32.68</td>\n",
       "      <td>60.8</td>\n",
       "      <td>7.6</td>\n",
       "      <td>8232.0</td>\n",
       "      <td>8280.0</td>\n",
       "      <td>8205.0</td>\n",
       "      <td>172.0</td>\n",
       "      <td>332.0</td>\n",
       "      <td>252.0</td>\n",
       "      <td>297.0</td>\n",
       "      <td>204.0</td>\n",
       "      <td>3</td>\n",
       "      <td>1409</td>\n",
       "      <td>1990</td>\n",
       "      <td>2</td>\n",
       "      <td>9</td>\n",
       "    </tr>\n",
       "    <tr>\n",
       "      <th>2</th>\n",
       "      <td>5.564778</td>\n",
       "      <td>43.32</td>\n",
       "      <td>60.8</td>\n",
       "      <td>15.2</td>\n",
       "      <td>8321.0</td>\n",
       "      <td>8355.0</td>\n",
       "      <td>8283.0</td>\n",
       "      <td>236.0</td>\n",
       "      <td>292.0</td>\n",
       "      <td>219.0</td>\n",
       "      <td>279.0</td>\n",
       "      <td>165.0</td>\n",
       "      <td>3</td>\n",
       "      <td>1386</td>\n",
       "      <td>1990</td>\n",
       "      <td>3</td>\n",
       "      <td>9</td>\n",
       "    </tr>\n",
       "    <tr>\n",
       "      <th>3</th>\n",
       "      <td>5.181000</td>\n",
       "      <td>25.84</td>\n",
       "      <td>38.0</td>\n",
       "      <td>7.6</td>\n",
       "      <td>8379.0</td>\n",
       "      <td>8396.0</td>\n",
       "      <td>8358.0</td>\n",
       "      <td>272.0</td>\n",
       "      <td>324.0</td>\n",
       "      <td>225.0</td>\n",
       "      <td>261.0</td>\n",
       "      <td>192.0</td>\n",
       "      <td>3</td>\n",
       "      <td>1365</td>\n",
       "      <td>1990</td>\n",
       "      <td>4</td>\n",
       "      <td>9</td>\n",
       "    </tr>\n",
       "    <tr>\n",
       "      <th>4</th>\n",
       "      <td>3.611000</td>\n",
       "      <td>28.88</td>\n",
       "      <td>45.6</td>\n",
       "      <td>7.6</td>\n",
       "      <td>8372.0</td>\n",
       "      <td>8393.0</td>\n",
       "      <td>8335.0</td>\n",
       "      <td>236.0</td>\n",
       "      <td>332.0</td>\n",
       "      <td>234.0</td>\n",
       "      <td>273.0</td>\n",
       "      <td>183.0</td>\n",
       "      <td>3</td>\n",
       "      <td>1413</td>\n",
       "      <td>1990</td>\n",
       "      <td>5</td>\n",
       "      <td>9</td>\n",
       "    </tr>\n",
       "  </tbody>\n",
       "</table>\n",
       "</div>"
      ],
      "text/plain": [
       "   Direction_Of_Wind  Average_Breeze_Speed  Max_Breeze_Speed  \\\n",
       "0           3.384222                 37.24              60.8   \n",
       "1           4.971667                 32.68              60.8   \n",
       "2           5.564778                 43.32              60.8   \n",
       "3           5.181000                 25.84              38.0   \n",
       "4           3.611000                 28.88              45.6   \n",
       "\n",
       "   Min_Breeze_Speed  Average_Atmospheric_Pressure  Max_Atmospheric_Pressure  \\\n",
       "0              15.2                        8225.0                    8259.0   \n",
       "1               7.6                        8232.0                    8280.0   \n",
       "2              15.2                        8321.0                    8355.0   \n",
       "3               7.6                        8379.0                    8396.0   \n",
       "4               7.6                        8372.0                    8393.0   \n",
       "\n",
       "   Min_Atmospheric_Pressure  Min_Ambient_Pollution  Max_Ambient_Pollution  \\\n",
       "0                    8211.0                   92.0                  304.0   \n",
       "1                    8205.0                  172.0                  332.0   \n",
       "2                    8283.0                  236.0                  292.0   \n",
       "3                    8358.0                  272.0                  324.0   \n",
       "4                    8335.0                  236.0                  332.0   \n",
       "\n",
       "   Average_Moisture_In_Park  Max_Moisture_In_Park  Min_Moisture_In_Park  \\\n",
       "0                     255.0                 288.0                 222.0   \n",
       "1                     252.0                 297.0                 204.0   \n",
       "2                     219.0                 279.0                 165.0   \n",
       "3                     225.0                 261.0                 192.0   \n",
       "4                     234.0                 273.0                 183.0   \n",
       "\n",
       "   Location_Type  Footfall  Year  Month  Day  \n",
       "0              3      1406  1990      1    9  \n",
       "1              3      1409  1990      2    9  \n",
       "2              3      1386  1990      3    9  \n",
       "3              3      1365  1990      4    9  \n",
       "4              3      1413  1990      5    9  "
      ]
     },
     "execution_count": 82,
     "metadata": {},
     "output_type": "execute_result"
    }
   ],
   "source": [
    "del X_train['ID']\n",
    "del X_train['Park_ID']\n",
    "del X_test['ID']\n",
    "del X_test['Park_ID']\n",
    "X_train['Direction_Of_Wind']=X_train['Direction_Of_Wind']*(3.14/180)\n",
    "X_test['Direction_Of_Wind']=X_test['Direction_Of_Wind']*(3.14/180)\n",
    "X_train.head()"
   ]
  },
  {
   "cell_type": "code",
   "execution_count": 83,
   "metadata": {
    "collapsed": false
   },
   "outputs": [],
   "source": [
    "#del X_train['Day']\n",
    "del X_train['Year']\n",
    "#del X_train['Direction_Of_Wind']\n",
    "X_train['Breeze_Speed']= (X_train['Max_Breeze_Speed']-X_train['Min_Breeze_Speed'])/X_train['Average_Breeze_Speed']\n",
    "del X_train['Max_Breeze_Speed']\n",
    "del X_train['Min_Breeze_Speed']\n",
    "del X_train['Average_Breeze_Speed']\n",
    "X_train['Atmospheric_Pressure']= (X_train['Max_Atmospheric_Pressure']-X_train['Min_Atmospheric_Pressure'])/X_train['Average_Atmospheric_Pressure']\n",
    "del X_train['Max_Atmospheric_Pressure']\n",
    "del X_train['Min_Atmospheric_Pressure']\n",
    "del X_train['Average_Atmospheric_Pressure']\n",
    "X_train['Ambient_Pollution']= (X_train['Max_Ambient_Pollution']/X_train['Min_Ambient_Pollution'])\n",
    "del X_train['Max_Ambient_Pollution']\n",
    "del X_train['Min_Ambient_Pollution']\n",
    "X_train['Moisture_In_Park']= (X_train['Max_Moisture_In_Park']-X_train['Min_Moisture_In_Park'])/X_train['Average_Moisture_In_Park']\n",
    "del X_train['Max_Moisture_In_Park']\n",
    "del X_train['Min_Moisture_In_Park']\n",
    "del X_train['Average_Moisture_In_Park']\n",
    "#del X_test['Day']\n",
    "del X_test['Year']\n",
    "#el X_test['Direction_Of_Wind']\n",
    "X_test['Breeze_Speed']= (X_test['Max_Breeze_Speed']-X_test['Min_Breeze_Speed'])/X_test['Average_Breeze_Speed']\n",
    "del X_test['Max_Breeze_Speed']\n",
    "del X_test['Min_Breeze_Speed']\n",
    "del X_test['Average_Breeze_Speed']\n",
    "X_test['Atmospheric_Pressure']= (X_test['Max_Atmospheric_Pressure']-X_test['Min_Atmospheric_Pressure'])/X_test['Average_Atmospheric_Pressure']\n",
    "del X_test['Max_Atmospheric_Pressure']\n",
    "del X_test['Min_Atmospheric_Pressure']\n",
    "del X_test['Average_Atmospheric_Pressure']\n",
    "X_test['Ambient_Pollution']= (X_test['Max_Ambient_Pollution']/X_test['Min_Ambient_Pollution'])\n",
    "del X_test['Max_Ambient_Pollution']\n",
    "del X_test['Min_Ambient_Pollution']\n",
    "X_test['Moisture_In_Park']= (X_test['Max_Moisture_In_Park']-X_test['Min_Moisture_In_Park'])/X_test['Average_Moisture_In_Park']\n",
    "del X_test['Max_Moisture_In_Park']\n",
    "del X_test['Min_Moisture_In_Park']\n",
    "del X_test['Average_Moisture_In_Park']\n",
    "X_train.fillna(0,inplace=True)\n",
    "X_test.fillna(0,inplace=True)"
   ]
  },
  {
   "cell_type": "code",
   "execution_count": 84,
   "metadata": {
    "collapsed": false
   },
   "outputs": [
    {
     "data": {
      "text/html": [
       "<div>\n",
       "<table border=\"1\" class=\"dataframe\">\n",
       "  <thead>\n",
       "    <tr style=\"text-align: right;\">\n",
       "      <th></th>\n",
       "      <th>Direction_Of_Wind</th>\n",
       "      <th>Location_Type</th>\n",
       "      <th>Footfall</th>\n",
       "      <th>Month</th>\n",
       "      <th>Day</th>\n",
       "      <th>Breeze_Speed</th>\n",
       "      <th>Atmospheric_Pressure</th>\n",
       "      <th>Ambient_Pollution</th>\n",
       "      <th>Moisture_In_Park</th>\n",
       "    </tr>\n",
       "  </thead>\n",
       "  <tbody>\n",
       "    <tr>\n",
       "      <th>0</th>\n",
       "      <td>3.384222</td>\n",
       "      <td>3</td>\n",
       "      <td>1406</td>\n",
       "      <td>1</td>\n",
       "      <td>9</td>\n",
       "      <td>1.224490</td>\n",
       "      <td>0.583587</td>\n",
       "      <td>3.304348</td>\n",
       "      <td>0.258824</td>\n",
       "    </tr>\n",
       "    <tr>\n",
       "      <th>1</th>\n",
       "      <td>4.971667</td>\n",
       "      <td>3</td>\n",
       "      <td>1409</td>\n",
       "      <td>2</td>\n",
       "      <td>9</td>\n",
       "      <td>1.627907</td>\n",
       "      <td>0.911079</td>\n",
       "      <td>1.930233</td>\n",
       "      <td>0.369048</td>\n",
       "    </tr>\n",
       "    <tr>\n",
       "      <th>2</th>\n",
       "      <td>5.564778</td>\n",
       "      <td>3</td>\n",
       "      <td>1386</td>\n",
       "      <td>3</td>\n",
       "      <td>9</td>\n",
       "      <td>1.052632</td>\n",
       "      <td>0.865281</td>\n",
       "      <td>1.237288</td>\n",
       "      <td>0.520548</td>\n",
       "    </tr>\n",
       "    <tr>\n",
       "      <th>3</th>\n",
       "      <td>5.181000</td>\n",
       "      <td>3</td>\n",
       "      <td>1365</td>\n",
       "      <td>4</td>\n",
       "      <td>9</td>\n",
       "      <td>1.176471</td>\n",
       "      <td>0.453515</td>\n",
       "      <td>1.191176</td>\n",
       "      <td>0.306667</td>\n",
       "    </tr>\n",
       "    <tr>\n",
       "      <th>4</th>\n",
       "      <td>3.611000</td>\n",
       "      <td>3</td>\n",
       "      <td>1413</td>\n",
       "      <td>5</td>\n",
       "      <td>9</td>\n",
       "      <td>1.315789</td>\n",
       "      <td>0.692785</td>\n",
       "      <td>1.406780</td>\n",
       "      <td>0.384615</td>\n",
       "    </tr>\n",
       "  </tbody>\n",
       "</table>\n",
       "</div>"
      ],
      "text/plain": [
       "   Direction_Of_Wind  Location_Type  Footfall  Month  Day  Breeze_Speed  \\\n",
       "0           3.384222              3      1406      1    9      1.224490   \n",
       "1           4.971667              3      1409      2    9      1.627907   \n",
       "2           5.564778              3      1386      3    9      1.052632   \n",
       "3           5.181000              3      1365      4    9      1.176471   \n",
       "4           3.611000              3      1413      5    9      1.315789   \n",
       "\n",
       "   Atmospheric_Pressure  Ambient_Pollution  Moisture_In_Park  \n",
       "0              0.583587           3.304348          0.258824  \n",
       "1              0.911079           1.930233          0.369048  \n",
       "2              0.865281           1.237288          0.520548  \n",
       "3              0.453515           1.191176          0.306667  \n",
       "4              0.692785           1.406780          0.384615  "
      ]
     },
     "execution_count": 84,
     "metadata": {},
     "output_type": "execute_result"
    }
   ],
   "source": [
    "X_train['Atmospheric_Pressure']=X_train['Atmospheric_Pressure']*100\n",
    "X_test['Atmospheric_Pressure']=X_test['Atmospheric_Pressure']*100\n",
    "X_train.head()"
   ]
  },
  {
   "cell_type": "code",
   "execution_count": 78,
   "metadata": {
    "collapsed": false
   },
   "outputs": [
    {
     "data": {
      "text/plain": [
       "5.0000000000000009"
      ]
     },
     "execution_count": 78,
     "metadata": {},
     "output_type": "execute_result"
    }
   ],
   "source": [
    "X_train.Breeze_Speed.max()"
   ]
  },
  {
   "cell_type": "code",
   "execution_count": null,
   "metadata": {
    "collapsed": false
   },
   "outputs": [],
   "source": []
  },
  {
   "cell_type": "code",
   "execution_count": 106,
   "metadata": {
    "collapsed": false
   },
   "outputs": [
    {
     "data": {
      "text/plain": [
       "3"
      ]
     },
     "execution_count": 106,
     "metadata": {},
     "output_type": "execute_result"
    }
   ],
   "source": [
    "X_test.flag.max()"
   ]
  },
  {
   "cell_type": "code",
   "execution_count": 79,
   "metadata": {
    "collapsed": false
   },
   "outputs": [],
   "source": []
  },
  {
   "cell_type": "code",
   "execution_count": 53,
   "metadata": {
    "collapsed": false
   },
   "outputs": [],
   "source": [
    "\n",
    "import matplotlib.pyplot as plt\n",
    "plt.box()"
   ]
  },
  {
   "cell_type": "code",
   "execution_count": 98,
   "metadata": {
    "collapsed": false
   },
   "outputs": [
    {
     "data": {
      "text/plain": [
       "2.5714285714285716"
      ]
     },
     "execution_count": 98,
     "metadata": {},
     "output_type": "execute_result"
    }
   ],
   "source": [
    "import numpy as np\n",
    "iqr = np.subtract(*np.percentile(X_train.Ambient_Pollution, [75, 25]))\n",
    "iqr"
   ]
  },
  {
   "cell_type": "code",
   "execution_count": 99,
   "metadata": {
    "collapsed": true
   },
   "outputs": [],
   "source": [
    "def outlier_detection(x):\n",
    "    q75, q25 = np.percentile(x, [75 ,25])\n",
    "    iqr = q75 - q25\n",
    "    l=q25-1.5*iqr\n",
    "    u=q75+1.5*iqr\n",
    "    return l,u\n",
    "    \n",
    "    "
   ]
  },
  {
   "cell_type": "code",
   "execution_count": 100,
   "metadata": {
    "collapsed": false
   },
   "outputs": [
    {
     "data": {
      "text/plain": [
       "(114539, 9)"
      ]
     },
     "execution_count": 100,
     "metadata": {},
     "output_type": "execute_result"
    }
   ],
   "source": [
    "l,u=outlier_detection(X_train.Ambient_Pollution)\n",
    "X_train.shape"
   ]
  },
  {
   "cell_type": "code",
   "execution_count": 101,
   "metadata": {
    "collapsed": false
   },
   "outputs": [],
   "source": [
    "#X_train.flag1=X_flag1if (X_train.Ambient_Pollution > u or X_train.Ambient_Pollution <l)\n",
    "X_train['flag1'] = (X_train['Ambient_Pollution'] <= l).astype(int)\n",
    "X_train['flag1'] = (X_train['Ambient_Pollution'] >= u ).astype(int)\n",
    " "
   ]
  },
  {
   "cell_type": "code",
   "execution_count": 102,
   "metadata": {
    "collapsed": false
   },
   "outputs": [],
   "source": [
    "#X_train.flag1=X_flag1if (X_train.Ambient_Pollution > u or X_train.Ambient_Pollution <l)\n",
    "l,u=outlier_detection(X_train.Direction_Of_Wind)\n",
    "X_train['flag2'] = (X_train['Direction_Of_Wind'] <= l).astype(int)\n",
    "X_train['flag2'] = (X_train['Direction_Of_Wind'] >= u ).astype(int)\n",
    "\n",
    "l,u=outlier_detection(X_train.Breeze_Speed)\n",
    "X_train['flag3'] = (X_train['Breeze_Speed'] <= l).astype(int)\n",
    "X_train['flag3'] = (X_train['Breeze_Speed'] >= u ).astype(int)\n",
    "\n",
    "l,u=outlier_detection(X_train.Atmospheric_Pressure)\n",
    "X_train['flag4'] = (X_train['Atmospheric_Pressure'] <= l).astype(int)\n",
    "X_train['flag4'] = (X_train['Atmospheric_Pressure'] >= u ).astype(int)\n",
    "\n",
    "l,u=outlier_detection(X_train.Moisture_In_Park)\n",
    "X_train['flag5'] = (X_train['Moisture_In_Park'] <= l).astype(int)\n",
    "X_train['flag5'] = (X_train['Moisture_In_Park'] >= u ).astype(int)\n",
    "\n",
    "X_train['flag']=(X_train['flag1']+X_train['flag2']+X_train['flag3']+X_train['flag4']+X_train['flag5'])\n",
    "X_train=X_train.drop(['flag1','flag2','flag3','flag4','flag5'],1)"
   ]
  },
  {
   "cell_type": "code",
   "execution_count": 103,
   "metadata": {
    "collapsed": false
   },
   "outputs": [
    {
     "ename": "ValueError",
     "evalue": "labels ['Footfall'] not contained in axis",
     "output_type": "error",
     "traceback": [
      "\u001b[1;31m---------------------------------------------------------------------------\u001b[0m",
      "\u001b[1;31mValueError\u001b[0m                                Traceback (most recent call last)",
      "\u001b[1;32m<ipython-input-103-0701425f6d0a>\u001b[0m in \u001b[0;36m<module>\u001b[1;34m()\u001b[0m\n\u001b[0;32m      2\u001b[0m \u001b[0mtest_ID\u001b[0m\u001b[1;33m.\u001b[0m\u001b[0mhead\u001b[0m\u001b[1;33m(\u001b[0m\u001b[1;33m)\u001b[0m\u001b[1;33m\u001b[0m\u001b[0m\n\u001b[0;32m      3\u001b[0m \u001b[0my_train\u001b[0m\u001b[1;33m=\u001b[0m\u001b[0mtrain_data\u001b[0m\u001b[1;33m.\u001b[0m\u001b[0mFootfall\u001b[0m\u001b[1;33m\u001b[0m\u001b[0m\n\u001b[1;32m----> 4\u001b[1;33m \u001b[0mX_train\u001b[0m\u001b[1;33m=\u001b[0m\u001b[0mX_train\u001b[0m\u001b[1;33m.\u001b[0m\u001b[0mdrop\u001b[0m\u001b[1;33m(\u001b[0m\u001b[1;34m'Footfall'\u001b[0m\u001b[1;33m,\u001b[0m\u001b[1;36m1\u001b[0m\u001b[1;33m)\u001b[0m\u001b[1;33m\u001b[0m\u001b[0m\n\u001b[0m",
      "\u001b[1;32m/home/subir_sbr/anaconda3/lib/python3.5/site-packages/pandas/core/generic.py\u001b[0m in \u001b[0;36mdrop\u001b[1;34m(self, labels, axis, level, inplace, errors)\u001b[0m\n\u001b[0;32m   1875\u001b[0m                 \u001b[0mnew_axis\u001b[0m \u001b[1;33m=\u001b[0m \u001b[0maxis\u001b[0m\u001b[1;33m.\u001b[0m\u001b[0mdrop\u001b[0m\u001b[1;33m(\u001b[0m\u001b[0mlabels\u001b[0m\u001b[1;33m,\u001b[0m \u001b[0mlevel\u001b[0m\u001b[1;33m=\u001b[0m\u001b[0mlevel\u001b[0m\u001b[1;33m,\u001b[0m \u001b[0merrors\u001b[0m\u001b[1;33m=\u001b[0m\u001b[0merrors\u001b[0m\u001b[1;33m)\u001b[0m\u001b[1;33m\u001b[0m\u001b[0m\n\u001b[0;32m   1876\u001b[0m             \u001b[1;32melse\u001b[0m\u001b[1;33m:\u001b[0m\u001b[1;33m\u001b[0m\u001b[0m\n\u001b[1;32m-> 1877\u001b[1;33m                 \u001b[0mnew_axis\u001b[0m \u001b[1;33m=\u001b[0m \u001b[0maxis\u001b[0m\u001b[1;33m.\u001b[0m\u001b[0mdrop\u001b[0m\u001b[1;33m(\u001b[0m\u001b[0mlabels\u001b[0m\u001b[1;33m,\u001b[0m \u001b[0merrors\u001b[0m\u001b[1;33m=\u001b[0m\u001b[0merrors\u001b[0m\u001b[1;33m)\u001b[0m\u001b[1;33m\u001b[0m\u001b[0m\n\u001b[0m\u001b[0;32m   1878\u001b[0m             \u001b[0mdropped\u001b[0m \u001b[1;33m=\u001b[0m \u001b[0mself\u001b[0m\u001b[1;33m.\u001b[0m\u001b[0mreindex\u001b[0m\u001b[1;33m(\u001b[0m\u001b[1;33m**\u001b[0m\u001b[1;33m{\u001b[0m\u001b[0maxis_name\u001b[0m\u001b[1;33m:\u001b[0m \u001b[0mnew_axis\u001b[0m\u001b[1;33m}\u001b[0m\u001b[1;33m)\u001b[0m\u001b[1;33m\u001b[0m\u001b[0m\n\u001b[0;32m   1879\u001b[0m             \u001b[1;32mtry\u001b[0m\u001b[1;33m:\u001b[0m\u001b[1;33m\u001b[0m\u001b[0m\n",
      "\u001b[1;32m/home/subir_sbr/anaconda3/lib/python3.5/site-packages/pandas/indexes/base.py\u001b[0m in \u001b[0;36mdrop\u001b[1;34m(self, labels, errors)\u001b[0m\n\u001b[0;32m   3049\u001b[0m             \u001b[1;32mif\u001b[0m \u001b[0merrors\u001b[0m \u001b[1;33m!=\u001b[0m \u001b[1;34m'ignore'\u001b[0m\u001b[1;33m:\u001b[0m\u001b[1;33m\u001b[0m\u001b[0m\n\u001b[0;32m   3050\u001b[0m                 raise ValueError('labels %s not contained in axis' %\n\u001b[1;32m-> 3051\u001b[1;33m                                  labels[mask])\n\u001b[0m\u001b[0;32m   3052\u001b[0m             \u001b[0mindexer\u001b[0m \u001b[1;33m=\u001b[0m \u001b[0mindexer\u001b[0m\u001b[1;33m[\u001b[0m\u001b[1;33m~\u001b[0m\u001b[0mmask\u001b[0m\u001b[1;33m]\u001b[0m\u001b[1;33m\u001b[0m\u001b[0m\n\u001b[0;32m   3053\u001b[0m         \u001b[1;32mreturn\u001b[0m \u001b[0mself\u001b[0m\u001b[1;33m.\u001b[0m\u001b[0mdelete\u001b[0m\u001b[1;33m(\u001b[0m\u001b[0mindexer\u001b[0m\u001b[1;33m)\u001b[0m\u001b[1;33m\u001b[0m\u001b[0m\n",
      "\u001b[1;31mValueError\u001b[0m: labels ['Footfall'] not contained in axis"
     ]
    }
   ],
   "source": [
    "test_ID=pd.DataFrame(test_ID)\n",
    "test_ID.head()\n",
    "y_train=train_data.Footfall\n",
    "X_train=X_train.drop('Footfall',1)"
   ]
  },
  {
   "cell_type": "code",
   "execution_count": 104,
   "metadata": {
    "collapsed": false
   },
   "outputs": [],
   "source": [
    "#X_train.flag1=X_flag1if (X_train.Ambient_Pollution > u or X_train.Ambient_Pollution <l)\n",
    "l,u=outlier_detection(X_test.Ambient_Pollution)\n",
    "X_test['flag1'] = (X_test['Ambient_Pollution'] <= l).astype(int)\n",
    "X_test['flag1'] = (X_test['Ambient_Pollution'] >= u ).astype(int)\n",
    " \n",
    "    \n",
    "l,u=outlier_detection(X_test.Direction_Of_Wind)\n",
    "X_test['flag2'] = (X_test['Direction_Of_Wind'] <= l).astype(int)\n",
    "X_test['flag2'] = (X_test['Direction_Of_Wind'] >= u ).astype(int)\n",
    "\n",
    "l,u=outlier_detection(X_train.Breeze_Speed)\n",
    "X_test['flag3'] = (X_test['Breeze_Speed'] <= l).astype(int)\n",
    "X_test['flag3'] = (X_test['Breeze_Speed'] >= u ).astype(int)\n",
    "\n",
    "l,u=outlier_detection(X_train.Atmospheric_Pressure)\n",
    "X_test['flag4'] = (X_test['Atmospheric_Pressure'] <= l).astype(int)\n",
    "X_test['flag4'] = (X_test['Atmospheric_Pressure'] >= u ).astype(int)\n",
    "\n",
    "l,u=outlier_detection(X_train.Moisture_In_Park)\n",
    "X_test['flag5'] = (X_test['Moisture_In_Park'] <= l).astype(int)\n",
    "X_test['flag5'] = (X_test['Moisture_In_Park'] >= u ).astype(int)\n",
    "\n",
    "X_test['flag']=(X_test['flag1']+X_test['flag2']+X_test['flag3']+X_test['flag4']+X_test['flag5'])\n",
    "X_test=X_test.drop(['flag1','flag2','flag3','flag4','flag5'],1)"
   ]
  },
  {
   "cell_type": "code",
   "execution_count": 107,
   "metadata": {
    "collapsed": false
   },
   "outputs": [],
   "source": [
    "X_train['flag']=(X_train['flag']>2.5).astype(int)\n",
    "X_test['flag']=(X_test['flag']>2.5).astype(int)"
   ]
  },
  {
   "cell_type": "code",
   "execution_count": 238,
   "metadata": {
    "collapsed": false
   },
   "outputs": [],
   "source": [
    "from sklearn.ensemble import GradientBoostingRegressor #For Regression\n",
    "clf = GradientBoostingRegressor(n_estimators=40, learning_rate=0.1, max_depth=8)\n",
    "# "
   ]
  },
  {
   "cell_type": "code",
   "execution_count": null,
   "metadata": {
    "collapsed": false
   },
   "outputs": [],
   "source": [
    "from sklearn import cross_validation\n",
    "\n",
    "#Simple K-Fold cross validation. 5 folds.\n",
    "cv = cross_validation.KFold(len(X_train), n_folds=5)\n",
    "results = []\n",
    "\n",
    "for traincv, testcv in cv:\n",
    "        clf.fit(X_train.iloc[traincv], y_train.iloc[traincv])\n"
   ]
  },
  {
   "cell_type": "code",
   "execution_count": null,
   "metadata": {
    "collapsed": true
   },
   "outputs": [],
   "source": [
    "y=clf.predict(X_test)"
   ]
  },
  {
   "cell_type": "code",
   "execution_count": null,
   "metadata": {
    "collapsed": false
   },
   "outputs": [],
   "source": [
    "output = pd.DataFrame( data={\"ID\": test_ID[\"ID\"], \"Footfall\":y} )\n"
   ]
  },
  {
   "cell_type": "code",
   "execution_count": null,
   "metadata": {
    "collapsed": false
   },
   "outputs": [],
   "source": [
    "#################################### LR #####################################3"
   ]
  },
  {
   "cell_type": "code",
   "execution_count": null,
   "metadata": {
    "collapsed": false
   },
   "outputs": [],
   "source": []
  },
  {
   "cell_type": "code",
   "execution_count": null,
   "metadata": {
    "collapsed": false
   },
   "outputs": [],
   "source": [
    "\n"
   ]
  },
  {
   "cell_type": "code",
   "execution_count": null,
   "metadata": {
    "collapsed": false
   },
   "outputs": [],
   "source": []
  },
  {
   "cell_type": "code",
   "execution_count": null,
   "metadata": {
    "collapsed": false
   },
   "outputs": [],
   "source": []
  },
  {
   "cell_type": "code",
   "execution_count": null,
   "metadata": {
    "collapsed": false
   },
   "outputs": [],
   "source": []
  },
  {
   "cell_type": "code",
   "execution_count": null,
   "metadata": {
    "collapsed": true
   },
   "outputs": [],
   "source": []
  },
  {
   "cell_type": "code",
   "execution_count": null,
   "metadata": {
    "collapsed": false
   },
   "outputs": [],
   "source": []
  },
  {
   "cell_type": "code",
   "execution_count": null,
   "metadata": {
    "collapsed": true
   },
   "outputs": [],
   "source": [
    "###################################### XGBOOST #############################\n"
   ]
  },
  {
   "cell_type": "code",
   "execution_count": null,
   "metadata": {
    "collapsed": true
   },
   "outputs": [],
   "source": []
  },
  {
   "cell_type": "code",
   "execution_count": null,
   "metadata": {
    "collapsed": true
   },
   "outputs": [],
   "source": []
  },
  {
   "cell_type": "code",
   "execution_count": null,
   "metadata": {
    "collapsed": true
   },
   "outputs": [],
   "source": []
  },
  {
   "cell_type": "code",
   "execution_count": null,
   "metadata": {
    "collapsed": true
   },
   "outputs": [],
   "source": []
  },
  {
   "cell_type": "code",
   "execution_count": null,
   "metadata": {
    "collapsed": true
   },
   "outputs": [],
   "source": [
    "import xgboost as xgb\n",
    "def runXGB(train_X, train_y, test_X, test_y=None):\n",
    "        params = {}\n",
    "        \n",
    "        params[\"eta\"] = 0.1       \n",
    "        params[\"subsample\"]=0.8\n",
    "        params[\"colsample_bytree\"]=0.8\n",
    "        params[\"reg_alpha\"]=0.005\n",
    "        params[\"max_depth\"] = 8\n",
    "        params[\"cv\"]=5\n",
    "        \n",
    "        params[\"gamma\"]=0.1\n",
    "    \n",
    "        plst = list(params.items())\n",
    "        num_rounds = 900\n",
    "\n",
    "        xgtrain = xgb.DMatrix(train_X, label=train_y)\n",
    "        xgtest = xgb.DMatrix(test_X)\n",
    "        model = xgb.train(plst, xgtrain, num_rounds)\n",
    "        pred_test_y = model.predict(xgtest)\n",
    "        return pred_test_y\n"
   ]
  },
  {
   "cell_type": "code",
   "execution_count": null,
   "metadata": {
    "collapsed": false
   },
   "outputs": [],
   "source": [
    "y=runXGB(X_train, y_train, X_test, test_y=None)\n",
    "output3 = pd.DataFrame( data={\"ID\": test_ID[\"ID\"], \"Footfall\":y} )\n"
   ]
  },
  {
   "cell_type": "code",
   "execution_count": null,
   "metadata": {
    "collapsed": true
   },
   "outputs": [],
   "source": []
  },
  {
   "cell_type": "code",
   "execution_count": null,
   "metadata": {
    "collapsed": false
   },
   "outputs": [],
   "source": [
    "model = xgb.XGBRegressor()"
   ]
  },
  {
   "cell_type": "code",
   "execution_count": null,
   "metadata": {
    "collapsed": true
   },
   "outputs": [],
   "source": [
    "for traincv, testcv in cv:\n",
    "        model.fit(X_train.iloc[traincv], y_train.iloc[traincv])"
   ]
  },
  {
   "cell_type": "code",
   "execution_count": null,
   "metadata": {
    "collapsed": true
   },
   "outputs": [],
   "source": [
    "y=clf.predict(X_test)"
   ]
  },
  {
   "cell_type": "code",
   "execution_count": null,
   "metadata": {
    "collapsed": true
   },
   "outputs": [],
   "source": [
    "output4 = pd.DataFrame( data={\"ID\": test_ID[\"ID\"], \"Footfall\":y} )\n"
   ]
  },
  {
   "cell_type": "code",
   "execution_count": null,
   "metadata": {
    "collapsed": true
   },
   "outputs": [],
   "source": [
    "output4[\"Footfall\"] = 0.5*output4[\"Footfall\"] + 0.25*output3[\"Footfall\"]+ 0.25*output[\"Footfall\"] \n",
    "output4.to_csv(\"Submission.csv\", index=False,quoting=3)"
   ]
  },
  {
   "cell_type": "code",
   "execution_count": null,
   "metadata": {
    "collapsed": true
   },
   "outputs": [],
   "source": []
  },
  {
   "cell_type": "code",
   "execution_count": null,
   "metadata": {
    "collapsed": true
   },
   "outputs": [],
   "source": []
  },
  {
   "cell_type": "code",
   "execution_count": null,
   "metadata": {
    "collapsed": true
   },
   "outputs": [],
   "source": []
  }
 ],
 "metadata": {
  "anaconda-cloud": {},
  "kernelspec": {
   "display_name": "Python [Root]",
   "language": "python",
   "name": "Python [Root]"
  },
  "language_info": {
   "codemirror_mode": {
    "name": "ipython",
    "version": 3
   },
   "file_extension": ".py",
   "mimetype": "text/x-python",
   "name": "python",
   "nbconvert_exporter": "python",
   "pygments_lexer": "ipython3",
   "version": "3.5.2"
  }
 },
 "nbformat": 4,
 "nbformat_minor": 0
}
